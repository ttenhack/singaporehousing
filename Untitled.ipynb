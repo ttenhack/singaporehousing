{
 "cells": [
  {
   "cell_type": "code",
   "execution_count": 2,
   "metadata": {},
   "outputs": [],
   "source": [
    "import geocoder"
   ]
  },
  {
   "cell_type": "code",
   "execution_count": 14,
   "metadata": {},
   "outputs": [
    {
     "name": "stdout",
     "output_type": "stream",
     "text": [
      "[1.362265, 103.8497145]\n"
     ]
    }
   ],
   "source": [
    "# Not a real function, still cool!\n",
    "\n",
    "da\n",
    "\n",
    "street =  \"ANG MO KIO AVE 1\"\n",
    "\n",
    "g = geocoder.google(street)\n",
    "print(g.latlng)\n",
    "\n",
    "longlat = \n",
    "\n",
    "g.latlng"
   ]
  },
  {
   "cell_type": "code",
   "execution_count": null,
   "metadata": {},
   "outputs": [],
   "source": []
  }
 ],
 "metadata": {
  "anaconda-cloud": {},
  "kernelspec": {
   "display_name": "Python [default]",
   "language": "python",
   "name": "python3"
  }
 },
 "nbformat": 4,
 "nbformat_minor": 2
}
