{
 "cells": [
  {
   "cell_type": "markdown",
   "metadata": {},
   "source": [
    "## Libraries\n",
    "<hr>\n",
    "The libraries used are pandas, numpy, seaborn, Counter, matplotlib, axes3d, linearregression."
   ]
  },
  {
   "cell_type": "code",
<<<<<<< HEAD
   "execution_count": 2,
   "metadata": {},
   "outputs": [],
=======
   "execution_count": 1,
   "metadata": {},
   "outputs": [
    {
     "name": "stderr",
     "output_type": "stream",
     "text": [
      "/Users/maximekayser/miniconda3/envs/kkbox/lib/python3.6/site-packages/sklearn/cross_validation.py:41: DeprecationWarning: This module was deprecated in version 0.18 in favor of the model_selection module into which all the refactored classes and functions are moved. Also note that the interface of the new CV iterators are different from that of this module. This module will be removed in 0.20.\n",
      "  \"This module will be removed in 0.20.\", DeprecationWarning)\n"
     ]
    }
   ],
>>>>>>> 481ec44b258a85140a5b79c54fa0e389042c4959
   "source": [
    "# Data analysis\n",
    "import pandas as pd\n",
    "import numpy as np\n",
    "import seaborn as sns\n",
    "import scipy.stats as stats\n",
    "import sklearn\n",
    "from collections import Counter\n",
    "\n",
    "# Visualization\n",
    "%matplotlib inline \n",
    "from IPython.display import set_matplotlib_formats\n",
    "set_matplotlib_formats('png2x','pdf')\n",
    "import matplotlib.pyplot as plt\n",
    "from mpl_toolkits.mplot3d import axes3d\n",
    "from IPython.display import IFrame\n",
    "\n",
    "# machine learning library\n",
    "from sklearn import datasets, linear_model, cross_validation\n",
<<<<<<< HEAD
    "from sklearn.model_selection import train_test_split, KFold, cross_val_score, cross_val_predict\n",
=======
    "from sklearn.model_selection import train_test_split, KFold, cross_val_score, cross_val_predict, ShuffleSplit\n",
>>>>>>> 481ec44b258a85140a5b79c54fa0e389042c4959
    "from sklearn.metrics import mean_squared_error, r2_score\n",
    "from sklearn.metrics import mean_absolute_error\n",
    "from sklearn.ensemble import RandomForestRegressor\n",
    "from sklearn.linear_model import LinearRegression\n",
    "from sklearn.linear_model import SGDRegressor\n",
    "from sklearn.preprocessing import PolynomialFeatures\n",
    "from sklearn.ensemble import AdaBoostRegressor\n",
    "from sklearn.ensemble import GradientBoostingRegressor\n",
<<<<<<< HEAD
    "#import xgboost as xgb\n",
=======
    "import xgboost as xgb\n",
>>>>>>> 481ec44b258a85140a5b79c54fa0e389042c4959
    "from sklearn.neural_network import MLPRegressor\n",
    "\n",
    "# other\n",
    "import time\n",
    "\n",
    "pd.options.mode.chained_assignment = None #SettingWithCopyWarning for confusing chained assignment disabled"
   ]
  },
  {
   "cell_type": "markdown",
   "metadata": {},
   "source": [
    "## 1 Data Acquisition\n",
    "<hr>\n",
    "The data for this report is acquired from the Singapore government website [1]. Data are collected from the period 1990 until January 2018. The data is provided in four seperate files, which will be merged into Python. The third file (> 20 MB) was seperated into periods of 2006-2012 and 2012-2014. This was necessary to make use of the Github repository."
   ]
  },
  {
   "cell_type": "code",
<<<<<<< HEAD
   "execution_count": 10,
=======
   "execution_count": 2,
>>>>>>> 481ec44b258a85140a5b79c54fa0e389042c4959
   "metadata": {},
   "outputs": [],
   "source": [
    "# Load datasets\n",
    "data1 = pd.read_csv('sg-resale-flat-prices-1990-1999.csv', sep =',')\n",
    "data2 = pd.read_csv('sg-resale-flat-prices-2000-2005.csv', sep =',')\n",
    "data3 = pd.read_csv('sg-resale-flat-prices-2006-2012.csv', sep =',')\n",
    "data4 = pd.read_csv('sg-resale-flat-prices-2012-2014.csv', sep =',')\n",
    "data5 = pd.read_csv('sg-resale-flat-prices-2014-2018.csv', sep =',')"
   ]
  },
  {
   "cell_type": "code",
<<<<<<< HEAD
   "execution_count": 11,
=======
   "execution_count": 3,
>>>>>>> 481ec44b258a85140a5b79c54fa0e389042c4959
   "metadata": {},
   "outputs": [
    {
     "name": "stdout",
     "output_type": "stream",
     "text": [
      "Number of training data = (58631, 10)\n"
     ]
    }
   ],
   "source": [
    "data5 = data5.drop('remaining_lease',1)\n",
    "print('Number of training data =', data5.shape)"
   ]
  },
  {
   "cell_type": "code",
<<<<<<< HEAD
   "execution_count": 12,
=======
   "execution_count": 4,
>>>>>>> 481ec44b258a85140a5b79c54fa0e389042c4959
   "metadata": {},
   "outputs": [
    {
     "name": "stdout",
     "output_type": "stream",
     "text": [
      "Number of training data = (768629, 10)\n"
     ]
    }
   ],
   "source": [
    "#concatenate dataset\n",
    "sets = [data1, data2, data3, data4, data5]\n",
    "data = pd.concat(sets)\n",
    "print('Number of training data =', data.shape)\n"
   ]
  },
  {
   "cell_type": "markdown",
   "metadata": {},
   "source": [
    "## 3 Cleaning and Preprocessing the Dataset\n",
    "<hr>\n",
    "The cleaning and preprocessing section are divided into four sections, namely cleaning, encoding, feature engineering and one hot encoding.\n",
    "\n",
    "### 3.1 Data Cleaning\n",
    "During the exploration, there are some cleaning that should be performed. First, the flat types consist of eight types, which should be seven types instead. The flat type \"Multi Generation\" has a unique value with a space in between and one with a hyphen. Second, the flat models consist of 32 models, which should be 21 instead. This is also because of the capital usage. These doubles are removed by cleaning the data. Third, some storey range values in data set 4 are not correct. In the exploration, we have research the difference and since *** these values will be too different, these data points have been removed from the data set. Fourth, the feature \"month\" consists of sales year and sales month, e.g. 1990-01. To include the years and months in the model, this variable will be seperated to a variable called sales year and a variable called sales month. \n"
   ]
  },
  {
   "cell_type": "code",
<<<<<<< HEAD
   "execution_count": 6,
=======
   "execution_count": 5,
>>>>>>> 481ec44b258a85140a5b79c54fa0e389042c4959
   "metadata": {},
   "outputs": [
    {
     "name": "stdout",
     "output_type": "stream",
     "text": [
      "Total Flat Type Count: 7\n",
      "Flat Type \n",
      "4 ROOM              285136\n",
      "3 ROOM              258482\n",
      "5 ROOM              156260\n",
      "EXECUTIVE            58177\n",
      "2 ROOM                8859\n",
      "1 ROOM                1246\n",
      "MULTI GENERATION       469\n",
      "Name: flat_type, dtype: int64\n"
     ]
    }
   ],
   "source": [
    "pd.options.mode.chained_assignment = None #SettingWithCopyWarning for confusing chained assignment disabled\n",
    "\n",
    "#remove doubles\n",
    "data['flat_type'][data['flat_type'] == 'MULTI-GENERATION'] = 'MULTI GENERATION'\n",
    "\n",
    "#flat_type count\n",
    "count_flat_type = data['flat_type'].nunique()\n",
    "print(\"Total Flat Type Count:\", count_flat_type)\n",
    "flat_type_count = data['flat_type'].value_counts()\n",
    "print(\"Flat Type \\n\" +str(flat_type_count))"
   ]
  },
  {
   "cell_type": "code",
<<<<<<< HEAD
   "execution_count": 7,
=======
   "execution_count": 6,
>>>>>>> 481ec44b258a85140a5b79c54fa0e389042c4959
   "metadata": {},
   "outputs": [
    {
     "name": "stdout",
     "output_type": "stream",
     "text": [
      "Total Flat Model Count: 21\n",
      "Flat Model Count \n",
      "Model A                   208633\n",
      "Improved                  202602\n",
      "New Generation            169643\n",
      "Simplified                 51604\n",
      "Standard                   38234\n",
      "Premium Apartment          28886\n",
      "Maisonette                 25136\n",
      "Apartment                  19745\n",
      "Apertment                   9901\n",
      "Model A2                    8382\n",
      "Adjoined flat               1913\n",
      "Model A-Maisonette          1784\n",
      "Terrace                      609\n",
      "DBSS                         601\n",
      "Multi Generation             469\n",
      "Type S1                      183\n",
      "Improved-Maisonette          105\n",
      "Type S2                       80\n",
      "Premium Maisonette            75\n",
      "2-room                        38\n",
      "Premium Apartment Loft         6\n",
      "Name: flat_model, dtype: int64\n"
     ]
    }
   ],
   "source": [
    "#remove doubles\n",
    "data['flat_model'][data['flat_model'] == 'MODEL A'] = 'Model A'\n",
    "data['flat_model'][data['flat_model'] == 'IMPROVED'] = 'Improved'\n",
    "data['flat_model'][data['flat_model'] == 'NEW GENERATION'] = 'New Generation'\n",
    "data['flat_model'][data['flat_model'] == 'PREMIUM APARTMENT'] = 'Premium Apartment'\n",
    "data['flat_model'][data['flat_model'] == 'SIMPLIFIED'] = 'Simplified'\n",
    "data['flat_model'][data['flat_model'] == 'STANDARD'] = 'Standard'\n",
    "data['flat_model'][data['flat_model'] == 'APARTMENT'] = 'Apertment'\n",
    "data['flat_model'][data['flat_model'] == 'MAISONETTE'] = 'Maisonette'\n",
    "data['flat_model'][data['flat_model'] == 'ADJOINED FLAT'] = 'Adjoined flat'\n",
    "data['flat_model'][data['flat_model'] == 'MODEL A-MAISONETTE'] = 'Model A-Maisonette'\n",
    "data['flat_model'][data['flat_model'] == 'TERRACE'] = 'Terrace'\n",
    "data['flat_model'][data['flat_model'] == 'MULTI GENERATION'] = 'Multi Generation'\n",
    "data['flat_model'][data['flat_model'] == 'IMPROVED-MAISONETTE'] = 'Improved-Maisonette'\n",
    "data['flat_model'][data['flat_model'] == '2-ROOM'] = '2-room'\n",
    "\n",
    "#flat_model count\n",
    "count_flat_model = data['flat_model'].nunique()\n",
    "print(\"Total Flat Model Count:\", count_flat_model)\n",
    "flat_model_count = data['flat_model'].value_counts()\n",
    "print(\"Flat Model Count \\n\" +str(flat_model_count))"
   ]
  },
  {
   "cell_type": "code",
<<<<<<< HEAD
   "execution_count": 8,
=======
   "execution_count": 7,
>>>>>>> 481ec44b258a85140a5b79c54fa0e389042c4959
   "metadata": {},
   "outputs": [
    {
     "name": "stdout",
     "output_type": "stream",
     "text": [
      "Total Storey Range Count: 17\n",
      "Storey Range Count \n",
      "04 TO 06    196169\n",
      "07 TO 09    177012\n",
      "01 TO 03    158446\n",
      "10 TO 12    149470\n",
      "13 TO 15     46780\n",
      "16 TO 18     16906\n",
      "19 TO 21      8337\n",
      "22 TO 24      5233\n",
      "25 TO 27      2100\n",
      "28 TO 30       788\n",
<<<<<<< HEAD
      "31 TO 33       151\n",
      "34 TO 36       151\n",
=======
      "34 TO 36       151\n",
      "31 TO 33       151\n",
>>>>>>> 481ec44b258a85140a5b79c54fa0e389042c4959
      "37 TO 39       148\n",
      "40 TO 42        73\n",
      "43 TO 45        11\n",
      "46 TO 48        11\n",
      "49 TO 51         5\n",
      "Name: storey_range, dtype: int64\n"
     ]
    }
   ],
   "source": [
    "#remove storey range outliers\n",
    "#data = data.ix[data['storey_range'].isin(['01 TO 05','06 TO 10','11 TO 15','16 TO 20','21 TO 25','26 TO 30','31 TO 35','36 TO 40'])]\n",
    "data = data.loc[data['storey_range'].isin(['01 TO 03','04 TO 06','07 TO 09','10 TO 12','13 TO 15','16 TO 18','19 TO 21','22 TO 24','25 TO 27','28 TO 30','31 TO 33','34 TO 36','37 TO 39','40 TO 42','43 TO 45','46 TO 48','49 TO 51'])]\n",
    "\n",
    "#storey range count\n",
    "count_storey_range = data['storey_range'].nunique()\n",
    "print(\"Total Storey Range Count:\", count_storey_range)\n",
    "storey_range_count = data['storey_range'].value_counts()\n",
    "print(\"Storey Range Count \\n\" +str(storey_range_count))"
   ]
  },
  {
   "cell_type": "code",
<<<<<<< HEAD
   "execution_count": 13,
=======
   "execution_count": 8,
>>>>>>> 481ec44b258a85140a5b79c54fa0e389042c4959
   "metadata": {
    "scrolled": true
   },
   "outputs": [],
   "source": [
    "#add sales year variable\n",
    "if ('sales_year' not in data.columns):\n",
    "    data.insert(1,'sales_year',(pd.DatetimeIndex(data['month']).year))\n",
    "\n",
    "#add sales year variable\n",
    "if ('sales_month' not in data.columns):\n",
    "    data.insert(1,'sales_month',(pd.DatetimeIndex(data['month']).month))\n",
    "    \n",
    "#add sales year variable\n",
    "if ('month' in data.columns):\n",
    "    del data['month']"
   ]
  },
  {
   "cell_type": "markdown",
   "metadata": {},
   "source": [
    "Note that two variables are not going to be used, which are respectively block and street name."
   ]
  },
  {
   "cell_type": "code",
<<<<<<< HEAD
   "execution_count": 14,
=======
   "execution_count": 9,
>>>>>>> 481ec44b258a85140a5b79c54fa0e389042c4959
   "metadata": {},
   "outputs": [
    {
     "data": {
      "text/html": [
       "<div>\n",
       "<style scoped>\n",
       "    .dataframe tbody tr th:only-of-type {\n",
       "        vertical-align: middle;\n",
       "    }\n",
       "\n",
       "    .dataframe tbody tr th {\n",
       "        vertical-align: top;\n",
       "    }\n",
       "\n",
       "    .dataframe thead th {\n",
       "        text-align: right;\n",
       "    }\n",
       "</style>\n",
       "<table border=\"1\" class=\"dataframe\">\n",
       "  <thead>\n",
       "    <tr style=\"text-align: right;\">\n",
       "      <th></th>\n",
       "      <th>sales_month</th>\n",
       "      <th>sales_year</th>\n",
       "      <th>town</th>\n",
       "      <th>flat_type</th>\n",
       "      <th>storey_range</th>\n",
       "      <th>floor_area_sqm</th>\n",
       "      <th>flat_model</th>\n",
       "      <th>lease_commence_date</th>\n",
       "      <th>resale_price</th>\n",
       "    </tr>\n",
       "  </thead>\n",
       "  <tbody>\n",
       "    <tr>\n",
       "      <th>0</th>\n",
       "      <td>1</td>\n",
       "      <td>1990</td>\n",
       "      <td>ANG MO KIO</td>\n",
       "      <td>1 ROOM</td>\n",
       "      <td>10 TO 12</td>\n",
       "      <td>31.0</td>\n",
<<<<<<< HEAD
       "      <td>IMPROVED</td>\n",
=======
       "      <td>Improved</td>\n",
>>>>>>> 481ec44b258a85140a5b79c54fa0e389042c4959
       "      <td>1977</td>\n",
       "      <td>9000.0</td>\n",
       "    </tr>\n",
       "    <tr>\n",
       "      <th>1</th>\n",
       "      <td>1</td>\n",
       "      <td>1990</td>\n",
       "      <td>ANG MO KIO</td>\n",
       "      <td>1 ROOM</td>\n",
       "      <td>04 TO 06</td>\n",
       "      <td>31.0</td>\n",
<<<<<<< HEAD
       "      <td>IMPROVED</td>\n",
=======
       "      <td>Improved</td>\n",
>>>>>>> 481ec44b258a85140a5b79c54fa0e389042c4959
       "      <td>1977</td>\n",
       "      <td>6000.0</td>\n",
       "    </tr>\n",
       "    <tr>\n",
       "      <th>2</th>\n",
       "      <td>1</td>\n",
       "      <td>1990</td>\n",
       "      <td>ANG MO KIO</td>\n",
       "      <td>1 ROOM</td>\n",
       "      <td>10 TO 12</td>\n",
       "      <td>31.0</td>\n",
<<<<<<< HEAD
       "      <td>IMPROVED</td>\n",
=======
       "      <td>Improved</td>\n",
>>>>>>> 481ec44b258a85140a5b79c54fa0e389042c4959
       "      <td>1977</td>\n",
       "      <td>8000.0</td>\n",
       "    </tr>\n",
       "    <tr>\n",
       "      <th>3</th>\n",
       "      <td>1</td>\n",
       "      <td>1990</td>\n",
       "      <td>ANG MO KIO</td>\n",
       "      <td>1 ROOM</td>\n",
       "      <td>07 TO 09</td>\n",
       "      <td>31.0</td>\n",
<<<<<<< HEAD
       "      <td>IMPROVED</td>\n",
=======
       "      <td>Improved</td>\n",
>>>>>>> 481ec44b258a85140a5b79c54fa0e389042c4959
       "      <td>1977</td>\n",
       "      <td>6000.0</td>\n",
       "    </tr>\n",
       "    <tr>\n",
       "      <th>4</th>\n",
       "      <td>1</td>\n",
       "      <td>1990</td>\n",
       "      <td>ANG MO KIO</td>\n",
       "      <td>3 ROOM</td>\n",
       "      <td>04 TO 06</td>\n",
       "      <td>73.0</td>\n",
<<<<<<< HEAD
       "      <td>NEW GENERATION</td>\n",
=======
       "      <td>New Generation</td>\n",
>>>>>>> 481ec44b258a85140a5b79c54fa0e389042c4959
       "      <td>1976</td>\n",
       "      <td>47200.0</td>\n",
       "    </tr>\n",
       "  </tbody>\n",
       "</table>\n",
       "</div>"
      ],
      "text/plain": [
       "   sales_month  sales_year        town flat_type storey_range  floor_area_sqm  \\\n",
       "0            1        1990  ANG MO KIO    1 ROOM     10 TO 12            31.0   \n",
       "1            1        1990  ANG MO KIO    1 ROOM     04 TO 06            31.0   \n",
       "2            1        1990  ANG MO KIO    1 ROOM     10 TO 12            31.0   \n",
       "3            1        1990  ANG MO KIO    1 ROOM     07 TO 09            31.0   \n",
       "4            1        1990  ANG MO KIO    3 ROOM     04 TO 06            73.0   \n",
       "\n",
       "       flat_model  lease_commence_date  resale_price  \n",
<<<<<<< HEAD
       "0        IMPROVED                 1977        9000.0  \n",
       "1        IMPROVED                 1977        6000.0  \n",
       "2        IMPROVED                 1977        8000.0  \n",
       "3        IMPROVED                 1977        6000.0  \n",
       "4  NEW GENERATION                 1976       47200.0  "
      ]
     },
     "execution_count": 14,
=======
       "0        Improved                 1977        9000.0  \n",
       "1        Improved                 1977        6000.0  \n",
       "2        Improved                 1977        8000.0  \n",
       "3        Improved                 1977        6000.0  \n",
       "4  New Generation                 1976       47200.0  "
      ]
     },
     "execution_count": 9,
>>>>>>> 481ec44b258a85140a5b79c54fa0e389042c4959
     "metadata": {},
     "output_type": "execute_result"
    }
   ],
   "source": [
    "#remove unnecessary variables\n",
    "data = data.drop('block',1)\n",
    "data = data.drop('street_name',1)\n",
    "\n",
    "data.head(5)"
   ]
  },
  {
   "cell_type": "markdown",
   "metadata": {},
   "source": [
    "### 3.2 Encoding\n",
    "There are rows containing characters. These rows (town, flat type, flat model and storey range) are transformed into dummy variables to clarify their levels, with other words, to quantify the qualitative data. "
   ]
  },
  {
   "cell_type": "code",
<<<<<<< HEAD
   "execution_count": 15,
=======
   "execution_count": 10,
>>>>>>> 481ec44b258a85140a5b79c54fa0e389042c4959
   "metadata": {},
   "outputs": [],
   "source": [
    "#Note that data.copy() is used to make a copy of data, which will be used for analysis\n",
    "data_enc = data.copy() "
   ]
  },
  {
   "cell_type": "code",
<<<<<<< HEAD
   "execution_count": 16,
=======
   "execution_count": 11,
>>>>>>> 481ec44b258a85140a5b79c54fa0e389042c4959
   "metadata": {},
   "outputs": [],
   "source": [
    "#dummies for town\n",
    "town_array = np.unique(data['town'])\n",
    "n = len(town_array)\n",
    "\n",
    "for i in range(0,n):\n",
    "    data_enc['town'][data['town'] == town_array[i]] = i+1\n",
    "\n",
    "#count_town = data['town'].nunique()\n",
    "#print(\"Total Town Count:\", count_town)\n",
    "#town_count = data['town'].value_counts()\n",
    "#print(\"Town Count \\n\" +str(town_count))"
   ]
  },
  {
   "cell_type": "code",
<<<<<<< HEAD
   "execution_count": 17,
=======
   "execution_count": 12,
>>>>>>> 481ec44b258a85140a5b79c54fa0e389042c4959
   "metadata": {},
   "outputs": [],
   "source": [
    "#dummies for flat types\n",
    "data_enc['flat_type'][data.flat_type == '1 ROOM'] = 1\n",
    "data_enc['flat_type'][data.flat_type == '2 ROOM'] = 2\n",
    "data_enc['flat_type'][data.flat_type == '3 ROOM'] = 3\n",
    "data_enc['flat_type'][data.flat_type == '4 ROOM'] = 4\n",
    "data_enc['flat_type'][data.flat_type == '5 ROOM'] = 5\n",
    "data_enc['flat_type'][data.flat_type == 'MULTI GENERATION'] = 6\n",
    "data_enc['flat_type'][data.flat_type == 'EXECUTIVE'] = 7\n",
    "\n",
    "#flat_type_count = data['flat_type'].value_counts()\n",
    "#print(\"Flat Type \\n\" +str(flat_type_count))"
   ]
  },
  {
   "cell_type": "code",
<<<<<<< HEAD
   "execution_count": 18,
=======
   "execution_count": 13,
>>>>>>> 481ec44b258a85140a5b79c54fa0e389042c4959
   "metadata": {},
   "outputs": [],
   "source": [
    "#dummies for storey ranges \n",
    "storey_range_array = np.unique(data['storey_range'])\n",
    "n = len(storey_range_array)\n",
    "\n",
    "for i in range(0,n):\n",
    "    data_enc['storey_range'][data['storey_range'] == storey_range_array[i]] = i+1\n",
    "\n",
    "#count_storey_range = data['storey_range'].nunique()\n",
    "#print(\"Total Storey Range Count:\", count_storey_range)\n",
    "#storey_range_count = data['storey_range'].value_counts()\n",
    "#print(\"Storey Range Count \\n\" +str(storey_range_count))"
   ]
  },
  {
   "cell_type": "code",
<<<<<<< HEAD
   "execution_count": 19,
=======
   "execution_count": 14,
>>>>>>> 481ec44b258a85140a5b79c54fa0e389042c4959
   "metadata": {},
   "outputs": [],
   "source": [
    "#dummies for flat models\n",
    "flat_model_array = np.unique(data['flat_model'])\n",
    "n = len(flat_model_array)\n",
    "\n",
    "for i in range(0,n):\n",
    "    data_enc['flat_model'][data['flat_model'] == flat_model_array[i]] = i+1\n",
    "\n",
    "#count_flat_model = data['flat_model'].nunique()\n",
    "#print(\"Total Flat Model Count:\", count_flat_model)\n",
    "#flat_model_count = data['flat_model'].value_counts()\n",
    "#print(\"Flat Model Count \\n\" +str(flat_model_count))"
   ]
  },
  {
   "cell_type": "code",
<<<<<<< HEAD
   "execution_count": 20,
=======
   "execution_count": 15,
>>>>>>> 481ec44b258a85140a5b79c54fa0e389042c4959
   "metadata": {
    "scrolled": false
   },
   "outputs": [
    {
     "data": {
      "text/html": [
       "<div>\n",
       "<style scoped>\n",
       "    .dataframe tbody tr th:only-of-type {\n",
       "        vertical-align: middle;\n",
       "    }\n",
       "\n",
       "    .dataframe tbody tr th {\n",
       "        vertical-align: top;\n",
       "    }\n",
       "\n",
       "    .dataframe thead th {\n",
       "        text-align: right;\n",
       "    }\n",
       "</style>\n",
       "<table border=\"1\" class=\"dataframe\">\n",
       "  <thead>\n",
       "    <tr style=\"text-align: right;\">\n",
       "      <th></th>\n",
       "      <th>sales_month</th>\n",
       "      <th>sales_year</th>\n",
       "      <th>town</th>\n",
       "      <th>flat_type</th>\n",
       "      <th>storey_range</th>\n",
       "      <th>floor_area_sqm</th>\n",
       "      <th>flat_model</th>\n",
       "      <th>lease_commence_date</th>\n",
       "      <th>resale_price</th>\n",
       "    </tr>\n",
       "  </thead>\n",
       "  <tbody>\n",
       "    <tr>\n",
       "      <th>0</th>\n",
       "      <td>1</td>\n",
       "      <td>1990</td>\n",
       "      <td>1</td>\n",
       "      <td>1</td>\n",
<<<<<<< HEAD
       "      <td>6</td>\n",
       "      <td>31.0</td>\n",
       "      <td>8</td>\n",
=======
       "      <td>4</td>\n",
       "      <td>31.0</td>\n",
       "      <td>6</td>\n",
>>>>>>> 481ec44b258a85140a5b79c54fa0e389042c4959
       "      <td>1977</td>\n",
       "      <td>9000.0</td>\n",
       "    </tr>\n",
       "    <tr>\n",
       "      <th>1</th>\n",
       "      <td>1</td>\n",
       "      <td>1990</td>\n",
       "      <td>1</td>\n",
       "      <td>1</td>\n",
<<<<<<< HEAD
       "      <td>3</td>\n",
       "      <td>31.0</td>\n",
       "      <td>8</td>\n",
=======
       "      <td>2</td>\n",
       "      <td>31.0</td>\n",
       "      <td>6</td>\n",
>>>>>>> 481ec44b258a85140a5b79c54fa0e389042c4959
       "      <td>1977</td>\n",
       "      <td>6000.0</td>\n",
       "    </tr>\n",
       "    <tr>\n",
       "      <th>2</th>\n",
       "      <td>1</td>\n",
       "      <td>1990</td>\n",
       "      <td>1</td>\n",
       "      <td>1</td>\n",
<<<<<<< HEAD
       "      <td>6</td>\n",
       "      <td>31.0</td>\n",
       "      <td>8</td>\n",
=======
       "      <td>4</td>\n",
       "      <td>31.0</td>\n",
       "      <td>6</td>\n",
>>>>>>> 481ec44b258a85140a5b79c54fa0e389042c4959
       "      <td>1977</td>\n",
       "      <td>8000.0</td>\n",
       "    </tr>\n",
       "    <tr>\n",
       "      <th>3</th>\n",
       "      <td>1</td>\n",
       "      <td>1990</td>\n",
       "      <td>1</td>\n",
       "      <td>1</td>\n",
<<<<<<< HEAD
       "      <td>5</td>\n",
       "      <td>31.0</td>\n",
       "      <td>8</td>\n",
=======
       "      <td>3</td>\n",
       "      <td>31.0</td>\n",
       "      <td>6</td>\n",
>>>>>>> 481ec44b258a85140a5b79c54fa0e389042c4959
       "      <td>1977</td>\n",
       "      <td>6000.0</td>\n",
       "    </tr>\n",
       "    <tr>\n",
       "      <th>4</th>\n",
       "      <td>1</td>\n",
       "      <td>1990</td>\n",
       "      <td>1</td>\n",
       "      <td>3</td>\n",
<<<<<<< HEAD
       "      <td>3</td>\n",
       "      <td>73.0</td>\n",
       "      <td>21</td>\n",
=======
       "      <td>2</td>\n",
       "      <td>73.0</td>\n",
       "      <td>13</td>\n",
>>>>>>> 481ec44b258a85140a5b79c54fa0e389042c4959
       "      <td>1976</td>\n",
       "      <td>47200.0</td>\n",
       "    </tr>\n",
       "  </tbody>\n",
       "</table>\n",
       "</div>"
      ],
      "text/plain": [
       "   sales_month  sales_year town flat_type storey_range  floor_area_sqm  \\\n",
<<<<<<< HEAD
       "0            1        1990    1         1            6            31.0   \n",
       "1            1        1990    1         1            3            31.0   \n",
       "2            1        1990    1         1            6            31.0   \n",
       "3            1        1990    1         1            5            31.0   \n",
       "4            1        1990    1         3            3            73.0   \n",
       "\n",
       "  flat_model  lease_commence_date  resale_price  \n",
       "0          8                 1977        9000.0  \n",
       "1          8                 1977        6000.0  \n",
       "2          8                 1977        8000.0  \n",
       "3          8                 1977        6000.0  \n",
       "4         21                 1976       47200.0  "
      ]
     },
     "execution_count": 20,
=======
       "0            1        1990    1         1            4            31.0   \n",
       "1            1        1990    1         1            2            31.0   \n",
       "2            1        1990    1         1            4            31.0   \n",
       "3            1        1990    1         1            3            31.0   \n",
       "4            1        1990    1         3            2            73.0   \n",
       "\n",
       "  flat_model  lease_commence_date  resale_price  \n",
       "0          6                 1977        9000.0  \n",
       "1          6                 1977        6000.0  \n",
       "2          6                 1977        8000.0  \n",
       "3          6                 1977        6000.0  \n",
       "4         13                 1976       47200.0  "
      ]
     },
     "execution_count": 15,
>>>>>>> 481ec44b258a85140a5b79c54fa0e389042c4959
     "metadata": {},
     "output_type": "execute_result"
    }
   ],
   "source": [
    "data_enc.head()"
   ]
  },
  {
   "cell_type": "markdown",
   "metadata": {},
   "source": [
    "### 3.4 One Hot Encoding (Categorical Data)\n",
    "When using categorical data, strings are not able to be interpreted by algorithms. Therefore, these values needs to be translated to a numerical value. Label encoding is a traditional way of translating strings into numerical values. For example, the towns in the dataset will be translated to $1,2,…,n$. The disadvantage of this method is the fact that algorithms might misinterpret these values. A higher town value does not necessarily mean that it has the potential of having higher resale prices.\n",
    "\n",
    "To cope with this problem, the one hot encoding approach is utilised. Instead of giving a numerical value, new columns are created per feature value. Continuing with the town example, this would mean that every town would have a new column. When the datapoint is part of this value, it will receive a $1$, whilst the other values receive a $0$ in this column. Therefore, it can be considered as a boolean solution for the feature values; either it is part of the value (True) or it is not (False). The disadvantage of the method is the fact that a significant amount of columns will be added to the dataset.\n",
    "\n",
    "To use the one hot encoding approach, the Panda feature get_dummies is used. This is similar to the LabelBinarizer function used in the Scikit-learn package. We chose for the pandas approach as our data was already converted to a pandas DataFrame.\n",
    "\n",
    "To use the string variables in the linear regression, one hot encoding are used for the following features: town/area, flat type, flat model and storey range. "
   ]
  },
  {
   "cell_type": "code",
<<<<<<< HEAD
   "execution_count": 21,
=======
   "execution_count": 16,
>>>>>>> 481ec44b258a85140a5b79c54fa0e389042c4959
   "metadata": {},
   "outputs": [],
   "source": [
    "#Note that data.copy() is used to make a copy of data, which will be used for analysis\n",
    "data_henc = data.copy()"
   ]
  },
  {
   "cell_type": "code",
<<<<<<< HEAD
   "execution_count": 25,
=======
   "execution_count": 17,
>>>>>>> 481ec44b258a85140a5b79c54fa0e389042c4959
   "metadata": {},
   "outputs": [],
   "source": [
    "#one hot encoding for town\n",
    "dummies = pd.get_dummies(data_henc['town']).rename(columns=lambda x: 'town_' + str(x))\n",
    "data_henc = pd.concat([data_henc, dummies], axis=1)"
   ]
  },
  {
   "cell_type": "code",
<<<<<<< HEAD
   "execution_count": 22,
=======
   "execution_count": 18,
>>>>>>> 481ec44b258a85140a5b79c54fa0e389042c4959
   "metadata": {},
   "outputs": [],
   "source": [
    "#one hot encoding for flat types\n",
    "dummies = pd.get_dummies(data_henc['flat_type']).rename(columns=lambda x: 'flat_type_' + str(x))\n",
    "data_henc = pd.concat([data_henc, dummies], axis=1)\n",
    "\n",
    "#source: http://www.hdb.gov.sg/cs/infoweb/residential/buying-a-flat/new/types-of-flats&rendermode=preview"
   ]
  },
  {
   "cell_type": "code",
<<<<<<< HEAD
   "execution_count": 24,
=======
   "execution_count": 19,
>>>>>>> 481ec44b258a85140a5b79c54fa0e389042c4959
   "metadata": {},
   "outputs": [],
   "source": [
    "#one hot encoding for storey ranges\n",
    "dummies = pd.get_dummies(data_henc['storey_range']).rename(columns=lambda x: 'storey_range_' + str(x))\n",
    "data_henc = pd.concat([data_henc, dummies], axis=1)\n"
   ]
  },
  {
   "cell_type": "code",
<<<<<<< HEAD
   "execution_count": 23,
=======
   "execution_count": 20,
>>>>>>> 481ec44b258a85140a5b79c54fa0e389042c4959
   "metadata": {},
   "outputs": [],
   "source": [
    "#one hot encoding for flat models\n",
    "dummies = pd.get_dummies(data_henc['flat_model']).rename(columns=lambda x: 'flat_model_' + str(x))\n",
    "data_henc = pd.concat([data_henc, dummies], axis=1)\n"
   ]
  },
  {
   "cell_type": "code",
<<<<<<< HEAD
   "execution_count": 26,
=======
   "execution_count": 21,
>>>>>>> 481ec44b258a85140a5b79c54fa0e389042c4959
   "metadata": {},
   "outputs": [
    {
     "name": "stdout",
     "output_type": "stream",
     "text": [
<<<<<<< HEAD
      "(768629, 99)\n"
=======
      "(761791, 77)\n"
>>>>>>> 481ec44b258a85140a5b79c54fa0e389042c4959
     ]
    }
   ],
   "source": [
    "#remove unnecessary variables\n",
    "data_henc = data_henc.drop('town',1)\n",
    "data_henc = data_henc.drop('flat_type',1)\n",
    "data_henc = data_henc.drop('storey_range',1)\n",
    "data_henc = data_henc.drop('flat_model',1)\n",
    "\n",
    "print(data_henc.shape)"
   ]
  },
  {
   "cell_type": "code",
<<<<<<< HEAD
   "execution_count": 27,
=======
   "execution_count": 22,
>>>>>>> 481ec44b258a85140a5b79c54fa0e389042c4959
   "metadata": {},
   "outputs": [
    {
     "data": {
      "text/html": [
       "<div>\n",
       "<style scoped>\n",
       "    .dataframe tbody tr th:only-of-type {\n",
       "        vertical-align: middle;\n",
       "    }\n",
       "\n",
       "    .dataframe tbody tr th {\n",
       "        vertical-align: top;\n",
       "    }\n",
       "\n",
       "    .dataframe thead th {\n",
       "        text-align: right;\n",
       "    }\n",
       "</style>\n",
       "<table border=\"1\" class=\"dataframe\">\n",
       "  <thead>\n",
       "    <tr style=\"text-align: right;\">\n",
       "      <th></th>\n",
       "      <th>sales_month</th>\n",
       "      <th>sales_year</th>\n",
       "      <th>floor_area_sqm</th>\n",
       "      <th>lease_commence_date</th>\n",
       "      <th>resale_price</th>\n",
<<<<<<< HEAD
       "      <th>flat_type_1 ROOM</th>\n",
       "      <th>flat_type_2 ROOM</th>\n",
       "      <th>flat_type_3 ROOM</th>\n",
       "      <th>flat_type_4 ROOM</th>\n",
       "      <th>flat_type_5 ROOM</th>\n",
       "      <th>...</th>\n",
       "      <th>town_PASIR RIS</th>\n",
       "      <th>town_PUNGGOL</th>\n",
       "      <th>town_QUEENSTOWN</th>\n",
       "      <th>town_SEMBAWANG</th>\n",
       "      <th>town_SENGKANG</th>\n",
       "      <th>town_SERANGOON</th>\n",
       "      <th>town_TAMPINES</th>\n",
       "      <th>town_TOA PAYOH</th>\n",
       "      <th>town_WOODLANDS</th>\n",
       "      <th>town_YISHUN</th>\n",
=======
       "      <th>town_ANG MO KIO</th>\n",
       "      <th>town_BEDOK</th>\n",
       "      <th>town_BISHAN</th>\n",
       "      <th>town_BUKIT BATOK</th>\n",
       "      <th>town_BUKIT MERAH</th>\n",
       "      <th>...</th>\n",
       "      <th>flat_model_Multi Generation</th>\n",
       "      <th>flat_model_New Generation</th>\n",
       "      <th>flat_model_Premium Apartment</th>\n",
       "      <th>flat_model_Premium Apartment Loft</th>\n",
       "      <th>flat_model_Premium Maisonette</th>\n",
       "      <th>flat_model_Simplified</th>\n",
       "      <th>flat_model_Standard</th>\n",
       "      <th>flat_model_Terrace</th>\n",
       "      <th>flat_model_Type S1</th>\n",
       "      <th>flat_model_Type S2</th>\n",
>>>>>>> 481ec44b258a85140a5b79c54fa0e389042c4959
       "    </tr>\n",
       "  </thead>\n",
       "  <tbody>\n",
       "    <tr>\n",
       "      <th>0</th>\n",
       "      <td>1</td>\n",
       "      <td>1990</td>\n",
       "      <td>31.0</td>\n",
       "      <td>1977</td>\n",
       "      <td>9000.0</td>\n",
       "      <td>1</td>\n",
       "      <td>0</td>\n",
       "      <td>0</td>\n",
       "      <td>0</td>\n",
       "      <td>0</td>\n",
       "      <td>...</td>\n",
       "      <td>0</td>\n",
       "      <td>0</td>\n",
       "      <td>0</td>\n",
       "      <td>0</td>\n",
       "      <td>0</td>\n",
       "      <td>0</td>\n",
       "      <td>0</td>\n",
       "      <td>0</td>\n",
       "      <td>0</td>\n",
       "      <td>0</td>\n",
       "    </tr>\n",
       "    <tr>\n",
       "      <th>1</th>\n",
       "      <td>1</td>\n",
       "      <td>1990</td>\n",
       "      <td>31.0</td>\n",
       "      <td>1977</td>\n",
       "      <td>6000.0</td>\n",
       "      <td>1</td>\n",
       "      <td>0</td>\n",
       "      <td>0</td>\n",
       "      <td>0</td>\n",
       "      <td>0</td>\n",
       "      <td>...</td>\n",
       "      <td>0</td>\n",
       "      <td>0</td>\n",
       "      <td>0</td>\n",
       "      <td>0</td>\n",
       "      <td>0</td>\n",
       "      <td>0</td>\n",
       "      <td>0</td>\n",
       "      <td>0</td>\n",
       "      <td>0</td>\n",
       "      <td>0</td>\n",
       "    </tr>\n",
       "    <tr>\n",
       "      <th>2</th>\n",
       "      <td>1</td>\n",
       "      <td>1990</td>\n",
       "      <td>31.0</td>\n",
       "      <td>1977</td>\n",
       "      <td>8000.0</td>\n",
       "      <td>1</td>\n",
       "      <td>0</td>\n",
       "      <td>0</td>\n",
       "      <td>0</td>\n",
       "      <td>0</td>\n",
       "      <td>...</td>\n",
       "      <td>0</td>\n",
       "      <td>0</td>\n",
       "      <td>0</td>\n",
       "      <td>0</td>\n",
       "      <td>0</td>\n",
       "      <td>0</td>\n",
       "      <td>0</td>\n",
       "      <td>0</td>\n",
       "      <td>0</td>\n",
       "      <td>0</td>\n",
       "    </tr>\n",
       "    <tr>\n",
       "      <th>3</th>\n",
       "      <td>1</td>\n",
       "      <td>1990</td>\n",
       "      <td>31.0</td>\n",
       "      <td>1977</td>\n",
       "      <td>6000.0</td>\n",
       "      <td>1</td>\n",
       "      <td>0</td>\n",
       "      <td>0</td>\n",
       "      <td>0</td>\n",
       "      <td>0</td>\n",
       "      <td>...</td>\n",
       "      <td>0</td>\n",
       "      <td>0</td>\n",
       "      <td>0</td>\n",
       "      <td>0</td>\n",
       "      <td>0</td>\n",
       "      <td>0</td>\n",
       "      <td>0</td>\n",
       "      <td>0</td>\n",
       "      <td>0</td>\n",
       "      <td>0</td>\n",
       "    </tr>\n",
       "    <tr>\n",
       "      <th>4</th>\n",
       "      <td>1</td>\n",
       "      <td>1990</td>\n",
       "      <td>73.0</td>\n",
       "      <td>1976</td>\n",
       "      <td>47200.0</td>\n",
<<<<<<< HEAD
       "      <td>0</td>\n",
       "      <td>0</td>\n",
       "      <td>1</td>\n",
=======
       "      <td>1</td>\n",
       "      <td>0</td>\n",
       "      <td>0</td>\n",
>>>>>>> 481ec44b258a85140a5b79c54fa0e389042c4959
       "      <td>0</td>\n",
       "      <td>0</td>\n",
       "      <td>...</td>\n",
       "      <td>0</td>\n",
<<<<<<< HEAD
       "      <td>0</td>\n",
=======
       "      <td>1</td>\n",
>>>>>>> 481ec44b258a85140a5b79c54fa0e389042c4959
       "      <td>0</td>\n",
       "      <td>0</td>\n",
       "      <td>0</td>\n",
       "      <td>0</td>\n",
       "      <td>0</td>\n",
       "      <td>0</td>\n",
       "      <td>0</td>\n",
       "      <td>0</td>\n",
       "    </tr>\n",
       "  </tbody>\n",
       "</table>\n",
<<<<<<< HEAD
       "<p>5 rows × 99 columns</p>\n",
=======
       "<p>5 rows × 77 columns</p>\n",
>>>>>>> 481ec44b258a85140a5b79c54fa0e389042c4959
       "</div>"
      ],
      "text/plain": [
       "   sales_month  sales_year  floor_area_sqm  lease_commence_date  resale_price  \\\n",
       "0            1        1990            31.0                 1977        9000.0   \n",
       "1            1        1990            31.0                 1977        6000.0   \n",
       "2            1        1990            31.0                 1977        8000.0   \n",
       "3            1        1990            31.0                 1977        6000.0   \n",
       "4            1        1990            73.0                 1976       47200.0   \n",
       "\n",
<<<<<<< HEAD
       "   flat_type_1 ROOM  flat_type_2 ROOM  flat_type_3 ROOM  flat_type_4 ROOM  \\\n",
       "0                 1                 0                 0                 0   \n",
       "1                 1                 0                 0                 0   \n",
       "2                 1                 0                 0                 0   \n",
       "3                 1                 0                 0                 0   \n",
       "4                 0                 0                 1                 0   \n",
       "\n",
       "   flat_type_5 ROOM     ...       town_PASIR RIS  town_PUNGGOL  \\\n",
       "0                 0     ...                    0             0   \n",
       "1                 0     ...                    0             0   \n",
       "2                 0     ...                    0             0   \n",
       "3                 0     ...                    0             0   \n",
       "4                 0     ...                    0             0   \n",
       "\n",
       "   town_QUEENSTOWN  town_SEMBAWANG  town_SENGKANG  town_SERANGOON  \\\n",
       "0                0               0              0               0   \n",
       "1                0               0              0               0   \n",
       "2                0               0              0               0   \n",
       "3                0               0              0               0   \n",
       "4                0               0              0               0   \n",
       "\n",
       "   town_TAMPINES  town_TOA PAYOH  town_WOODLANDS  town_YISHUN  \n",
       "0              0               0               0            0  \n",
       "1              0               0               0            0  \n",
       "2              0               0               0            0  \n",
       "3              0               0               0            0  \n",
       "4              0               0               0            0  \n",
       "\n",
       "[5 rows x 99 columns]"
      ]
     },
     "execution_count": 27,
=======
       "   town_ANG MO KIO  town_BEDOK  town_BISHAN  town_BUKIT BATOK  \\\n",
       "0                1           0            0                 0   \n",
       "1                1           0            0                 0   \n",
       "2                1           0            0                 0   \n",
       "3                1           0            0                 0   \n",
       "4                1           0            0                 0   \n",
       "\n",
       "   town_BUKIT MERAH         ...          flat_model_Multi Generation  \\\n",
       "0                 0         ...                                    0   \n",
       "1                 0         ...                                    0   \n",
       "2                 0         ...                                    0   \n",
       "3                 0         ...                                    0   \n",
       "4                 0         ...                                    0   \n",
       "\n",
       "   flat_model_New Generation  flat_model_Premium Apartment  \\\n",
       "0                          0                             0   \n",
       "1                          0                             0   \n",
       "2                          0                             0   \n",
       "3                          0                             0   \n",
       "4                          1                             0   \n",
       "\n",
       "   flat_model_Premium Apartment Loft  flat_model_Premium Maisonette  \\\n",
       "0                                  0                              0   \n",
       "1                                  0                              0   \n",
       "2                                  0                              0   \n",
       "3                                  0                              0   \n",
       "4                                  0                              0   \n",
       "\n",
       "   flat_model_Simplified  flat_model_Standard  flat_model_Terrace  \\\n",
       "0                      0                    0                   0   \n",
       "1                      0                    0                   0   \n",
       "2                      0                    0                   0   \n",
       "3                      0                    0                   0   \n",
       "4                      0                    0                   0   \n",
       "\n",
       "   flat_model_Type S1  flat_model_Type S2  \n",
       "0                   0                   0  \n",
       "1                   0                   0  \n",
       "2                   0                   0  \n",
       "3                   0                   0  \n",
       "4                   0                   0  \n",
       "\n",
       "[5 rows x 77 columns]"
      ]
     },
     "execution_count": 22,
>>>>>>> 481ec44b258a85140a5b79c54fa0e389042c4959
     "metadata": {},
     "output_type": "execute_result"
    }
   ],
   "source": [
    "data_henc.head(5)"
   ]
  },
  {
   "cell_type": "markdown",
   "metadata": {},
   "source": [
    "### 3.4 New Features\n",
    "In this part, we will explore new features that we can add to make our data more valuable. Since the data consists of seven objects, two floats and one integer, the seven objects will be researched and to see which can and will be changed. (Note that adding and dropping variables have been changed to comments, because an error would pop up otherwise. This is because the variable is already added or dropped, thus it cannot be performed again.) <br>\n",
    "\n",
    "***Remaining Lease*** Linear regression will not be able to read the years, since it can see it as another numerical value. Therefore, the remaining lease year is calculated. Once the sales year variable is created, the remaining lease year can be computed by using the following formula: $remaining lease year = 99 - (sales year - lease commence date)$.\n",
    "\n",
    "To check whether the remaining lease variable is correct, the data tail from dataset 5 in the data acquisition is used to compare with the new data. Since only the fifth data set consists of this data, we could use the column for validation. "
   ]
  },
  {
   "cell_type": "code",
<<<<<<< HEAD
   "execution_count": 29,
=======
   "execution_count": 23,
>>>>>>> 481ec44b258a85140a5b79c54fa0e389042c4959
   "metadata": {},
   "outputs": [],
   "source": [
    "#Note that data.copy() is used to make a copy of data, which will be used for analysis\n",
    "data_f = data_henc.copy()"
   ]
  },
  {
   "cell_type": "code",
<<<<<<< HEAD
   "execution_count": 30,
=======
   "execution_count": 24,
>>>>>>> 481ec44b258a85140a5b79c54fa0e389042c4959
   "metadata": {},
   "outputs": [],
   "source": [
    "#compute remaining lease variable\n",
    "if ('remaining_lease' not in data_f.columns):\n",
    "    data_f['remaining_lease'] = 99 - (data.sales_year - data.lease_commence_date)"
   ]
  },
  {
   "cell_type": "markdown",
   "metadata": {},
   "source": [
    "***Longtitude and Latitude*** Another interesting feature would be the longtitude and latitude of the street name. Fortunately, Google has such a package to make this possible. Unfortunately, this is only possible for 2,500 data points per day. Since we have 768.629 data points, this task was not possible for us. However, we still want to show that we have tried running the code underneath. Note that this can be seen as a limitation for our study."
   ]
  },
  {
   "cell_type": "code",
<<<<<<< HEAD
   "execution_count": 463,
=======
   "execution_count": 25,
>>>>>>> 481ec44b258a85140a5b79c54fa0e389042c4959
   "metadata": {},
   "outputs": [],
   "source": [
    "#compute longlat variable\n",
<<<<<<< HEAD
    "data['long_lat'] = geocoder.google(data['street_name']).lating"
=======
    "#data['long_lat'] = geocoder.google(data['street_name']).lating"
>>>>>>> 481ec44b258a85140a5b79c54fa0e389042c4959
   ]
  },
  {
   "cell_type": "markdown",
   "metadata": {},
   "source": [
    "***Area*** Instead of longtitude and latitutde, we have made an extra variable called \"Area\". The Area captures all the town in a specific region, which is based on the information of the official Singapore government site. "
   ]
  },
  {
   "cell_type": "code",
<<<<<<< HEAD
   "execution_count": 31,
=======
   "execution_count": 26,
>>>>>>> 481ec44b258a85140a5b79c54fa0e389042c4959
   "metadata": {},
   "outputs": [],
   "source": [
    "#Note that data.copy() is used to make a copy of data, which will be used for analysis\n",
    "data_2f = data_f.copy()"
   ]
  },
  {
   "cell_type": "code",
<<<<<<< HEAD
   "execution_count": 32,
=======
   "execution_count": 27,
>>>>>>> 481ec44b258a85140a5b79c54fa0e389042c4959
   "metadata": {},
   "outputs": [],
   "source": [
    "#add area variable\n",
    "data_2f.insert(1,'area',(data['town']))"
   ]
  },
  {
   "cell_type": "code",
<<<<<<< HEAD
   "execution_count": 33,
=======
   "execution_count": 28,
>>>>>>> 481ec44b258a85140a5b79c54fa0e389042c4959
   "metadata": {},
   "outputs": [
    {
     "name": "stdout",
     "output_type": "stream",
     "text": [
      "Area \n",
<<<<<<< HEAD
      "NORTH         215084\n",
      "WEST          193490\n",
      "CENTRAL       160121\n",
      "NORTH EAST    136074\n",
      "EAST           63860\n",
=======
      "NORTH         213559\n",
      "WEST          191750\n",
      "CENTRAL       158781\n",
      "NORTH EAST    134634\n",
      "EAST           63067\n",
>>>>>>> 481ec44b258a85140a5b79c54fa0e389042c4959
      "Name: area, dtype: int64\n"
     ]
    }
   ],
   "source": [
    "#divide towns into areas\n",
    "data_2f['area'][data_2f.area == 'BUKIT MERAH'] = 'CENTRAL'\n",
    "data_2f['area'][data_2f.area == 'TOA PAYOH'] = 'CENTRAL'\n",
    "data_2f['area'][data_2f.area == 'QUEENSTOWN'] = 'CENTRAL'\n",
    "data_2f['area'][data_2f.area == 'GEYLANG'] = 'CENTRAL'\n",
    "data_2f['area'][data_2f.area == 'KALLANG/WHAMPOA'] = 'CENTRAL'\n",
    "data_2f['area'][data_2f.area == 'BISHAN'] = 'CENTRAL'\n",
    "data_2f['area'][data_2f.area == 'MARINE PARADE'] = 'CENTRAL'\n",
    "data_2f['area'][data_2f.area == 'CENTRAL AREA'] = 'CENTRAL'\n",
    "data_2f['area'][data_2f.area == 'BUKIT TIMAH'] = 'CENTRAL'\n",
    "data_2f['area'][data_2f.area == 'TAMPINES'] = 'NORTH'\n",
    "data_2f['area'][data_2f.area == 'YISHUN'] = 'NORTH'\n",
    "data_2f['area'][data_2f.area == 'BEDOK'] = 'NORTH'\n",
    "data_2f['area'][data_2f.area == 'PASIR RIS'] = 'NORTH'\n",
    "data_2f['area'][data_2f.area == 'JURONG WEST'] = 'WEST'\n",
    "data_2f['area'][data_2f.area == 'BUKIT BATOK'] = 'WEST'\n",
    "data_2f['area'][data_2f.area == 'CHOA CHU KANG'] = 'WEST'\n",
    "data_2f['area'][data_2f.area == 'CLEMENTI'] = 'WEST'\n",
    "data_2f['area'][data_2f.area == 'JURONG EAST'] = 'WEST'\n",
    "data_2f['area'][data_2f.area == 'BUKIT PANJANG'] = 'WEST'\n",
    "data_2f['area'][data_2f.area == 'WOODLANDS'] = 'EAST'\n",
    "data_2f['area'][data_2f.area == 'SEMBAWANG'] = 'EAST'\n",
    "data_2f['area'][data_2f.area == 'LIM CHU KANG'] = 'EAST'\n",
    "data_2f['area'][data_2f.area == 'ANG MO KIO'] = 'NORTH EAST'\n",
    "data_2f['area'][data_2f.area == 'HOUGANG'] = 'NORTH EAST'\n",
    "data_2f['area'][data_2f.area == 'SERANGOON'] = 'NORTH EAST'\n",
    "data_2f['area'][data_2f.area == 'SENGKANG'] = 'NORTH EAST'\n",
    "data_2f['area'][data_2f.area == 'PUNGGOL'] = 'NORTH EAST'\n",
    "\n",
    "area_count = data_2f['area'].value_counts()\n",
    "print(\"Area \\n\" +str(area_count))\n",
    "\n",
    "#source: http://www.hdb.gov.sg/cs/infoweb/about-us/history/hdb-towns-your-home"
   ]
  },
  {
   "cell_type": "code",
<<<<<<< HEAD
   "execution_count": 34,
=======
   "execution_count": 29,
>>>>>>> 481ec44b258a85140a5b79c54fa0e389042c4959
   "metadata": {},
   "outputs": [],
   "source": [
    "#one hot encoding for area\n",
    "dummies = pd.get_dummies(data_2f['area']).rename(columns=lambda x: 'area_' + str(x))\n",
    "data_2f = pd.concat([data_2f, dummies], axis=1)\n",
    "\n",
    "del data_2f['area']"
   ]
  },
  {
   "cell_type": "code",
<<<<<<< HEAD
   "execution_count": 35,
=======
   "execution_count": 30,
>>>>>>> 481ec44b258a85140a5b79c54fa0e389042c4959
   "metadata": {},
   "outputs": [
    {
     "data": {
      "text/html": [
       "<div>\n",
       "<style scoped>\n",
       "    .dataframe tbody tr th:only-of-type {\n",
       "        vertical-align: middle;\n",
       "    }\n",
       "\n",
       "    .dataframe tbody tr th {\n",
       "        vertical-align: top;\n",
       "    }\n",
       "\n",
       "    .dataframe thead th {\n",
       "        text-align: right;\n",
       "    }\n",
       "</style>\n",
       "<table border=\"1\" class=\"dataframe\">\n",
       "  <thead>\n",
       "    <tr style=\"text-align: right;\">\n",
       "      <th></th>\n",
       "      <th>sales_month</th>\n",
       "      <th>sales_year</th>\n",
       "      <th>floor_area_sqm</th>\n",
       "      <th>lease_commence_date</th>\n",
       "      <th>resale_price</th>\n",
<<<<<<< HEAD
       "      <th>flat_type_1 ROOM</th>\n",
       "      <th>flat_type_2 ROOM</th>\n",
       "      <th>flat_type_3 ROOM</th>\n",
       "      <th>flat_type_4 ROOM</th>\n",
       "      <th>flat_type_5 ROOM</th>\n",
       "      <th>...</th>\n",
       "      <th>town_TAMPINES</th>\n",
       "      <th>town_TOA PAYOH</th>\n",
       "      <th>town_WOODLANDS</th>\n",
       "      <th>town_YISHUN</th>\n",
=======
       "      <th>town_ANG MO KIO</th>\n",
       "      <th>town_BEDOK</th>\n",
       "      <th>town_BISHAN</th>\n",
       "      <th>town_BUKIT BATOK</th>\n",
       "      <th>town_BUKIT MERAH</th>\n",
       "      <th>...</th>\n",
       "      <th>flat_model_Standard</th>\n",
       "      <th>flat_model_Terrace</th>\n",
       "      <th>flat_model_Type S1</th>\n",
       "      <th>flat_model_Type S2</th>\n",
>>>>>>> 481ec44b258a85140a5b79c54fa0e389042c4959
       "      <th>remaining_lease</th>\n",
       "      <th>area_CENTRAL</th>\n",
       "      <th>area_EAST</th>\n",
       "      <th>area_NORTH</th>\n",
       "      <th>area_NORTH EAST</th>\n",
       "      <th>area_WEST</th>\n",
       "    </tr>\n",
       "  </thead>\n",
       "  <tbody>\n",
       "    <tr>\n",
       "      <th>0</th>\n",
       "      <td>1</td>\n",
       "      <td>1990</td>\n",
       "      <td>31.0</td>\n",
       "      <td>1977</td>\n",
       "      <td>9000.0</td>\n",
       "      <td>1</td>\n",
       "      <td>0</td>\n",
       "      <td>0</td>\n",
       "      <td>0</td>\n",
       "      <td>0</td>\n",
       "      <td>...</td>\n",
       "      <td>0</td>\n",
       "      <td>0</td>\n",
       "      <td>0</td>\n",
       "      <td>0</td>\n",
       "      <td>86</td>\n",
       "      <td>0</td>\n",
       "      <td>0</td>\n",
       "      <td>0</td>\n",
       "      <td>1</td>\n",
       "      <td>0</td>\n",
       "    </tr>\n",
       "    <tr>\n",
       "      <th>1</th>\n",
       "      <td>1</td>\n",
       "      <td>1990</td>\n",
       "      <td>31.0</td>\n",
       "      <td>1977</td>\n",
       "      <td>6000.0</td>\n",
       "      <td>1</td>\n",
       "      <td>0</td>\n",
       "      <td>0</td>\n",
       "      <td>0</td>\n",
       "      <td>0</td>\n",
       "      <td>...</td>\n",
       "      <td>0</td>\n",
       "      <td>0</td>\n",
       "      <td>0</td>\n",
       "      <td>0</td>\n",
       "      <td>86</td>\n",
       "      <td>0</td>\n",
       "      <td>0</td>\n",
       "      <td>0</td>\n",
       "      <td>1</td>\n",
       "      <td>0</td>\n",
       "    </tr>\n",
       "    <tr>\n",
       "      <th>2</th>\n",
       "      <td>1</td>\n",
       "      <td>1990</td>\n",
       "      <td>31.0</td>\n",
       "      <td>1977</td>\n",
       "      <td>8000.0</td>\n",
       "      <td>1</td>\n",
       "      <td>0</td>\n",
       "      <td>0</td>\n",
       "      <td>0</td>\n",
       "      <td>0</td>\n",
       "      <td>...</td>\n",
       "      <td>0</td>\n",
       "      <td>0</td>\n",
       "      <td>0</td>\n",
       "      <td>0</td>\n",
       "      <td>86</td>\n",
       "      <td>0</td>\n",
       "      <td>0</td>\n",
       "      <td>0</td>\n",
       "      <td>1</td>\n",
       "      <td>0</td>\n",
       "    </tr>\n",
       "    <tr>\n",
       "      <th>3</th>\n",
       "      <td>1</td>\n",
       "      <td>1990</td>\n",
       "      <td>31.0</td>\n",
       "      <td>1977</td>\n",
       "      <td>6000.0</td>\n",
       "      <td>1</td>\n",
       "      <td>0</td>\n",
       "      <td>0</td>\n",
       "      <td>0</td>\n",
       "      <td>0</td>\n",
       "      <td>...</td>\n",
       "      <td>0</td>\n",
       "      <td>0</td>\n",
       "      <td>0</td>\n",
       "      <td>0</td>\n",
       "      <td>86</td>\n",
       "      <td>0</td>\n",
       "      <td>0</td>\n",
       "      <td>0</td>\n",
       "      <td>1</td>\n",
       "      <td>0</td>\n",
       "    </tr>\n",
       "    <tr>\n",
       "      <th>4</th>\n",
       "      <td>1</td>\n",
       "      <td>1990</td>\n",
       "      <td>73.0</td>\n",
       "      <td>1976</td>\n",
       "      <td>47200.0</td>\n",
<<<<<<< HEAD
       "      <td>0</td>\n",
       "      <td>0</td>\n",
       "      <td>1</td>\n",
=======
       "      <td>1</td>\n",
       "      <td>0</td>\n",
       "      <td>0</td>\n",
>>>>>>> 481ec44b258a85140a5b79c54fa0e389042c4959
       "      <td>0</td>\n",
       "      <td>0</td>\n",
       "      <td>...</td>\n",
       "      <td>0</td>\n",
       "      <td>0</td>\n",
       "      <td>0</td>\n",
       "      <td>0</td>\n",
       "      <td>85</td>\n",
       "      <td>0</td>\n",
       "      <td>0</td>\n",
       "      <td>0</td>\n",
       "      <td>1</td>\n",
       "      <td>0</td>\n",
       "    </tr>\n",
       "  </tbody>\n",
       "</table>\n",
<<<<<<< HEAD
       "<p>5 rows × 105 columns</p>\n",
=======
       "<p>5 rows × 83 columns</p>\n",
>>>>>>> 481ec44b258a85140a5b79c54fa0e389042c4959
       "</div>"
      ],
      "text/plain": [
       "   sales_month  sales_year  floor_area_sqm  lease_commence_date  resale_price  \\\n",
       "0            1        1990            31.0                 1977        9000.0   \n",
       "1            1        1990            31.0                 1977        6000.0   \n",
       "2            1        1990            31.0                 1977        8000.0   \n",
       "3            1        1990            31.0                 1977        6000.0   \n",
       "4            1        1990            73.0                 1976       47200.0   \n",
       "\n",
<<<<<<< HEAD
       "   flat_type_1 ROOM  flat_type_2 ROOM  flat_type_3 ROOM  flat_type_4 ROOM  \\\n",
       "0                 1                 0                 0                 0   \n",
       "1                 1                 0                 0                 0   \n",
       "2                 1                 0                 0                 0   \n",
       "3                 1                 0                 0                 0   \n",
       "4                 0                 0                 1                 0   \n",
       "\n",
       "   flat_type_5 ROOM    ...      town_TAMPINES  town_TOA PAYOH  town_WOODLANDS  \\\n",
       "0                 0    ...                  0               0               0   \n",
       "1                 0    ...                  0               0               0   \n",
       "2                 0    ...                  0               0               0   \n",
       "3                 0    ...                  0               0               0   \n",
       "4                 0    ...                  0               0               0   \n",
       "\n",
       "   town_YISHUN  remaining_lease  area_CENTRAL  area_EAST  area_NORTH  \\\n",
       "0            0               86             0          0           0   \n",
       "1            0               86             0          0           0   \n",
       "2            0               86             0          0           0   \n",
       "3            0               86             0          0           0   \n",
       "4            0               85             0          0           0   \n",
       "\n",
       "   area_NORTH EAST  area_WEST  \n",
       "0                1          0  \n",
       "1                1          0  \n",
       "2                1          0  \n",
       "3                1          0  \n",
       "4                1          0  \n",
       "\n",
       "[5 rows x 105 columns]"
      ]
     },
     "execution_count": 35,
=======
       "   town_ANG MO KIO  town_BEDOK  town_BISHAN  town_BUKIT BATOK  \\\n",
       "0                1           0            0                 0   \n",
       "1                1           0            0                 0   \n",
       "2                1           0            0                 0   \n",
       "3                1           0            0                 0   \n",
       "4                1           0            0                 0   \n",
       "\n",
       "   town_BUKIT MERAH    ...      flat_model_Standard  flat_model_Terrace  \\\n",
       "0                 0    ...                        0                   0   \n",
       "1                 0    ...                        0                   0   \n",
       "2                 0    ...                        0                   0   \n",
       "3                 0    ...                        0                   0   \n",
       "4                 0    ...                        0                   0   \n",
       "\n",
       "   flat_model_Type S1  flat_model_Type S2  remaining_lease  area_CENTRAL  \\\n",
       "0                   0                   0               86             0   \n",
       "1                   0                   0               86             0   \n",
       "2                   0                   0               86             0   \n",
       "3                   0                   0               86             0   \n",
       "4                   0                   0               85             0   \n",
       "\n",
       "   area_EAST  area_NORTH  area_NORTH EAST  area_WEST  \n",
       "0          0           0                1          0  \n",
       "1          0           0                1          0  \n",
       "2          0           0                1          0  \n",
       "3          0           0                1          0  \n",
       "4          0           0                1          0  \n",
       "\n",
       "[5 rows x 83 columns]"
      ]
     },
     "execution_count": 30,
>>>>>>> 481ec44b258a85140a5b79c54fa0e389042c4959
     "metadata": {},
     "output_type": "execute_result"
    }
   ],
   "source": [
    "data_2f.head(5)"
   ]
  },
  {
<<<<<<< HEAD
=======
   "cell_type": "code",
   "execution_count": 31,
   "metadata": {},
   "outputs": [
    {
     "name": "stdout",
     "output_type": "stream",
     "text": [
      "     sales_year  gdp_per_capita\n",
      "12         1966             584\n",
      "13         1966             566\n",
      "14         1967             642\n",
      "15         1967             626\n",
      "16         1968             722\n",
      "17         1968             708\n",
      "18         1969             826\n",
      "19         1969             812\n",
      "20         1970             934\n",
      "21         1970             925\n",
      "22         1971            1073\n",
      "23         1971            1075\n",
      "24         1972            1367\n",
      "25         1972            1371\n",
      "26         1973            1886\n",
      "27         1973            1928\n",
      "28         1974            2295\n",
      "29         1974            2359\n",
      "30         1975            2582\n",
      "31         1975            2559\n",
      "32         1976            2633\n",
      "33         1976            2648\n",
      "34         1977            2849\n",
      "35         1977            2883\n",
      "36         1978            3418\n",
      "37         1978            3426\n",
      "38         1979            4063\n",
      "39         1979            4078\n",
      "40         1980            4747\n",
      "41         1980            5004\n",
      "..          ...             ...\n",
      "86         2003           22756\n",
      "87         2003           23574\n",
      "88         2004           25474\n",
      "89         2004           27403\n",
      "90         2005           27891\n",
      "91         2005           29866\n",
      "92         2006           32387\n",
      "93         2006           33580\n",
      "94         2007           37986\n",
      "95         2007           39224\n",
      "96         2008           37932\n",
      "97         2008           39724\n",
      "98         2009           36790\n",
      "99         2009           38578\n",
      "100        2010           46305\n",
      "101        2010           46570\n",
      "102        2011           51743\n",
      "103        2011           53162\n",
      "104        2012           52429\n",
      "105        2012           54431\n",
      "106        2013           54182\n",
      "107        2013           56029\n",
      "108        2014           54890\n",
      "109        2014           56337\n",
      "110        2015           51244\n",
      "111        2015           53630\n",
      "112        2016           51269\n",
      "113        2016           52962\n",
      "114        2017           57722\n",
      "115        2018           57722\n",
      "\n",
      "[104 rows x 2 columns]\n"
     ]
    }
   ],
   "source": [
    "gdp = pd.read_csv('per-capita-gni-and-per-capita-gdp-at-current-market-prices-in-usd-annual.csv', sep =',')\n",
    "idx = (gdp['year'] > 1965)\n",
    "gdp = gdp[idx]\n",
    "gdp = gdp.drop('level_1',axis=1)\n",
    "gdp['sales_year'] = gdp['year']\n",
    "gdp['gdp_per_capita'] = gdp['value']\n",
    "del gdp['year']\n",
    "del gdp['value']\n",
    "print(gdp)"
   ]
  },
  {
   "cell_type": "code",
   "execution_count": 32,
   "metadata": {},
   "outputs": [
    {
     "name": "stdout",
     "output_type": "stream",
     "text": [
      "Index(['sales_month', 'sales_year', 'floor_area_sqm', 'lease_commence_date',\n",
      "       'resale_price', 'town_ANG MO KIO', 'town_BEDOK', 'town_BISHAN',\n",
      "       'town_BUKIT BATOK', 'town_BUKIT MERAH', 'town_BUKIT PANJANG',\n",
      "       'town_BUKIT TIMAH', 'town_CENTRAL AREA', 'town_CHOA CHU KANG',\n",
      "       'town_CLEMENTI', 'town_GEYLANG', 'town_HOUGANG', 'town_JURONG EAST',\n",
      "       'town_JURONG WEST', 'town_KALLANG/WHAMPOA', 'town_LIM CHU KANG',\n",
      "       'town_MARINE PARADE', 'town_PASIR RIS', 'town_PUNGGOL',\n",
      "       'town_QUEENSTOWN', 'town_SEMBAWANG', 'town_SENGKANG', 'town_SERANGOON',\n",
      "       'town_TAMPINES', 'town_TOA PAYOH', 'town_WOODLANDS', 'town_YISHUN',\n",
      "       'flat_type_1 ROOM', 'flat_type_2 ROOM', 'flat_type_3 ROOM',\n",
      "       'flat_type_4 ROOM', 'flat_type_5 ROOM', 'flat_type_EXECUTIVE',\n",
      "       'flat_type_MULTI GENERATION', 'storey_range_01 TO 03',\n",
      "       'storey_range_04 TO 06', 'storey_range_07 TO 09',\n",
      "       'storey_range_10 TO 12', 'storey_range_13 TO 15',\n",
      "       'storey_range_16 TO 18', 'storey_range_19 TO 21',\n",
      "       'storey_range_22 TO 24', 'storey_range_25 TO 27',\n",
      "       'storey_range_28 TO 30', 'storey_range_31 TO 33',\n",
      "       'storey_range_34 TO 36', 'storey_range_37 TO 39',\n",
      "       'storey_range_40 TO 42', 'storey_range_43 TO 45',\n",
      "       'storey_range_46 TO 48', 'storey_range_49 TO 51', 'flat_model_2-room',\n",
      "       'flat_model_Adjoined flat', 'flat_model_Apartment',\n",
      "       'flat_model_Apertment', 'flat_model_DBSS', 'flat_model_Improved',\n",
      "       'flat_model_Improved-Maisonette', 'flat_model_Maisonette',\n",
      "       'flat_model_Model A', 'flat_model_Model A-Maisonette',\n",
      "       'flat_model_Model A2', 'flat_model_Multi Generation',\n",
      "       'flat_model_New Generation', 'flat_model_Premium Apartment',\n",
      "       'flat_model_Premium Apartment Loft', 'flat_model_Premium Maisonette',\n",
      "       'flat_model_Simplified', 'flat_model_Standard', 'flat_model_Terrace',\n",
      "       'flat_model_Type S1', 'flat_model_Type S2', 'remaining_lease',\n",
      "       'area_CENTRAL', 'area_EAST', 'area_NORTH', 'area_NORTH EAST',\n",
      "       'area_WEST', 'gdp_per_capita'],\n",
      "      dtype='object')\n"
     ]
    }
   ],
   "source": [
    "data_3f = data_2f.merge(gdp, on='sales_year',how='left')\n",
    "print(data_3f.columns)"
   ]
  },
  {
   "cell_type": "code",
   "execution_count": 37,
   "metadata": {},
   "outputs": [
    {
     "name": "stdout",
     "output_type": "stream",
     "text": [
      "    total_land_area  sales_year\n",
      "6             581.5        1966\n",
      "7             583.0        1967\n",
      "8             584.3        1968\n",
      "9             585.3        1969\n",
      "10            586.4        1970\n",
      "11            586.4        1971\n",
      "12            586.4        1972\n",
      "13            586.4        1973\n",
      "14            587.6        1974\n",
      "15            596.8        1975\n",
      "16            602.0        1976\n",
      "17            616.3        1977\n",
      "18            616.3        1978\n",
      "19            617.8        1979\n",
      "20            617.8        1980\n",
      "21            617.9        1981\n",
      "22            618.1        1982\n",
      "23            618.1        1983\n",
      "24            620.2        1984\n",
      "25            620.5        1985\n",
      "26            621.7        1986\n",
      "27            622.6        1987\n",
      "28            625.6        1988\n",
      "29            626.4        1989\n",
      "30            633.0        1990\n",
      "31            639.1        1991\n",
      "32            641.0        1992\n",
      "33            641.4        1993\n",
      "34            646.1        1994\n",
      "35            647.5        1995\n",
      "36            647.5        1996\n",
      "37            647.8        1997\n",
      "38            648.1        1998\n",
      "39            659.9        1999\n",
      "40            682.7        2000\n",
      "41            682.3        2001\n",
      "42            687.1        2002\n",
      "43            693.4        2003\n",
      "44            696.2        2004\n",
      "45            697.9        2005\n",
      "46            699.5        2006\n",
      "47            705.1        2007\n",
      "48            710.2        2008\n",
      "49            710.3        2009\n",
      "50            712.4        2010\n",
      "51            714.3        2011\n",
      "52            715.8        2012\n",
      "53            716.5        2013\n",
      "54            718.9        2014\n",
      "55            719.1        2015\n",
      "56            719.7        2016\n",
      "57            721.5        2017\n",
      "58            721.5        2018\n"
     ]
    }
   ],
   "source": [
    "land = pd.read_csv('total-land-area-of-singapore.csv', sep =',')\n",
    "idx = (land['year'] > 1965)\n",
    "land = land[idx]\n",
    "land['sales_year'] = land['year']\n",
    "del land['year']\n",
    "print(land)"
   ]
  },
  {
   "cell_type": "code",
   "execution_count": 39,
   "metadata": {},
   "outputs": [
    {
     "name": "stdout",
     "output_type": "stream",
     "text": [
      "Index(['sales_month', 'sales_year', 'floor_area_sqm', 'lease_commence_date',\n",
      "       'resale_price', 'town_ANG MO KIO', 'town_BEDOK', 'town_BISHAN',\n",
      "       'town_BUKIT BATOK', 'town_BUKIT MERAH', 'town_BUKIT PANJANG',\n",
      "       'town_BUKIT TIMAH', 'town_CENTRAL AREA', 'town_CHOA CHU KANG',\n",
      "       'town_CLEMENTI', 'town_GEYLANG', 'town_HOUGANG', 'town_JURONG EAST',\n",
      "       'town_JURONG WEST', 'town_KALLANG/WHAMPOA', 'town_LIM CHU KANG',\n",
      "       'town_MARINE PARADE', 'town_PASIR RIS', 'town_PUNGGOL',\n",
      "       'town_QUEENSTOWN', 'town_SEMBAWANG', 'town_SENGKANG', 'town_SERANGOON',\n",
      "       'town_TAMPINES', 'town_TOA PAYOH', 'town_WOODLANDS', 'town_YISHUN',\n",
      "       'flat_type_1 ROOM', 'flat_type_2 ROOM', 'flat_type_3 ROOM',\n",
      "       'flat_type_4 ROOM', 'flat_type_5 ROOM', 'flat_type_EXECUTIVE',\n",
      "       'flat_type_MULTI GENERATION', 'storey_range_01 TO 03',\n",
      "       'storey_range_04 TO 06', 'storey_range_07 TO 09',\n",
      "       'storey_range_10 TO 12', 'storey_range_13 TO 15',\n",
      "       'storey_range_16 TO 18', 'storey_range_19 TO 21',\n",
      "       'storey_range_22 TO 24', 'storey_range_25 TO 27',\n",
      "       'storey_range_28 TO 30', 'storey_range_31 TO 33',\n",
      "       'storey_range_34 TO 36', 'storey_range_37 TO 39',\n",
      "       'storey_range_40 TO 42', 'storey_range_43 TO 45',\n",
      "       'storey_range_46 TO 48', 'storey_range_49 TO 51', 'flat_model_2-room',\n",
      "       'flat_model_Adjoined flat', 'flat_model_Apartment',\n",
      "       'flat_model_Apertment', 'flat_model_DBSS', 'flat_model_Improved',\n",
      "       'flat_model_Improved-Maisonette', 'flat_model_Maisonette',\n",
      "       'flat_model_Model A', 'flat_model_Model A-Maisonette',\n",
      "       'flat_model_Model A2', 'flat_model_Multi Generation',\n",
      "       'flat_model_New Generation', 'flat_model_Premium Apartment',\n",
      "       'flat_model_Premium Apartment Loft', 'flat_model_Premium Maisonette',\n",
      "       'flat_model_Simplified', 'flat_model_Standard', 'flat_model_Terrace',\n",
      "       'flat_model_Type S1', 'flat_model_Type S2', 'remaining_lease',\n",
      "       'area_CENTRAL', 'area_EAST', 'area_NORTH', 'area_NORTH EAST',\n",
      "       'area_WEST', 'gdp_per_capita', 'total_land_area'],\n",
      "      dtype='object')\n"
     ]
    }
   ],
   "source": [
    "data_4f = data_3f.merge(land, on='sales_year',how='left')\n",
    "print(data_4f.columns)"
   ]
  },
  {
>>>>>>> 481ec44b258a85140a5b79c54fa0e389042c4959
   "cell_type": "markdown",
   "metadata": {},
   "source": [
    "### 3.5 Normalizations\n",
    "#### 3.5.1 Z-scoring"
   ]
  },
  {
   "cell_type": "code",
<<<<<<< HEAD
   "execution_count": 36,
=======
   "execution_count": 34,
>>>>>>> 481ec44b258a85140a5b79c54fa0e389042c4959
   "metadata": {},
   "outputs": [],
   "source": [
    "data_z = data_2f.copy()"
   ]
  },
  {
   "cell_type": "code",
<<<<<<< HEAD
   "execution_count": null,
=======
   "execution_count": 35,
>>>>>>> 481ec44b258a85140a5b79c54fa0e389042c4959
   "metadata": {},
   "outputs": [],
   "source": [
    "# z-scoring\n",
    "data_z[['sales_month', 'sales_year','floor_area_sqm','remaining_lease','lease_commence_date']] = (data_z[['sales_month', 'sales_year', 'floor_area_sqm','remaining_lease','lease_commence_date']] - data_z[['sales_month', 'sales_year', 'floor_area_sqm','remaining_lease','lease_commence_date']].mean())/data_z[['sales_month', 'sales_year', 'floor_area_sqm','remaining_lease','lease_commence_date']].std()\n"
   ]
  },
  {
   "cell_type": "markdown",
   "metadata": {},
   "source": [
    "#### 3.5.2 Max/Min-Normalization"
   ]
  },
  {
   "cell_type": "code",
<<<<<<< HEAD
   "execution_count": null,
=======
   "execution_count": 36,
>>>>>>> 481ec44b258a85140a5b79c54fa0e389042c4959
   "metadata": {},
   "outputs": [],
   "source": [
    "data_n = data_2f.copy()"
   ]
  },
  {
   "cell_type": "code",
<<<<<<< HEAD
   "execution_count": null,
=======
   "execution_count": 37,
>>>>>>> 481ec44b258a85140a5b79c54fa0e389042c4959
   "metadata": {},
   "outputs": [],
   "source": [
    "# max/min\n",
    "data_n[['sales_month', 'sales_year', 'floor_area_sqm','remaining_lease','lease_commence_date']] = (data_n[['sales_month', 'sales_year', 'floor_area_sqm','remaining_lease','lease_commence_date']] - data_n[['sales_month', 'sales_year', 'floor_area_sqm','remaining_lease','lease_commence_date']].min())/(data_n[['sales_month', 'sales_year', 'floor_area_sqm','remaining_lease','lease_commence_date']].max() - data_n[['sales_month', 'sales_year', 'floor_area_sqm','remaining_lease','lease_commence_date']].min())\n"
   ]
  },
  {
   "cell_type": "markdown",
   "metadata": {},
   "source": [
    "### 3.6 Additional One Hot Encoding (Discrete Values)"
   ]
  },
  {
   "cell_type": "code",
<<<<<<< HEAD
   "execution_count": 378,
=======
   "execution_count": 38,
>>>>>>> 481ec44b258a85140a5b79c54fa0e389042c4959
   "metadata": {},
   "outputs": [],
   "source": [
    "data_henc_2 = data_2f.copy()"
   ]
  },
  {
   "cell_type": "code",
<<<<<<< HEAD
   "execution_count": 379,
=======
   "execution_count": 39,
>>>>>>> 481ec44b258a85140a5b79c54fa0e389042c4959
   "metadata": {},
   "outputs": [],
   "source": [
    "#one hot encoding for sales_year\n",
    "dummies = pd.get_dummies(data_henc_2['sales_year']).rename(columns=lambda x: 'sy_' + str(x))\n",
    "data_henc_2 = pd.concat([data_henc_2, dummies], axis=1)\n",
    "\n",
    "#one hot encoding for sales_month\n",
    "dummies = pd.get_dummies(data_henc_2['sales_month']).rename(columns=lambda x: 'sm_' + str(x))\n",
    "data_henc_2 = pd.concat([data_henc_2, dummies], axis=1)\n",
    "\n",
    "#one hot encoding for lease_commence_date\n",
    "dummies = pd.get_dummies(data_henc_2['lease_commence_date']).rename(columns=lambda x: 'lcd_' + str(x))\n",
    "data_henc_2 = pd.concat([data_henc_2, dummies], axis=1)"
   ]
  },
  {
   "cell_type": "code",
<<<<<<< HEAD
   "execution_count": 380,
=======
   "execution_count": 40,
>>>>>>> 481ec44b258a85140a5b79c54fa0e389042c4959
   "metadata": {},
   "outputs": [],
   "source": [
    "data_henc_2 = data_henc_2.drop(columns=['sales_year','sales_month','lease_commence_date'],axis=1)"
   ]
  },
  {
   "cell_type": "code",
<<<<<<< HEAD
   "execution_count": 381,
=======
   "execution_count": 41,
>>>>>>> 481ec44b258a85140a5b79c54fa0e389042c4959
   "metadata": {},
   "outputs": [
    {
     "name": "stdout",
     "output_type": "stream",
     "text": [
      "(761791, 171)\n"
     ]
    }
   ],
   "source": [
    "print(data_henc_2.shape)"
   ]
  },
  {
   "cell_type": "markdown",
   "metadata": {},
   "source": [
    "## 4 Data Analysis\n",
    "<hr>\n",
    "This part of the report will show algorithms that have been applied to predict the housing prices. We have focused on regressions with different features. <br>"
   ]
  },
  {
   "cell_type": "markdown",
   "metadata": {},
   "source": [
    "### 4.1 Models"
   ]
  },
  {
   "cell_type": "code",
<<<<<<< HEAD
   "execution_count": 424,
=======
   "execution_count": 41,
>>>>>>> 481ec44b258a85140a5b79c54fa0e389042c4959
   "metadata": {},
   "outputs": [],
   "source": [
    "# Run Forest Run\n",
<<<<<<< HEAD
    "def random_f(data,version):\n",
    "    start = time.time()\n",
    "    \n",
    "    if ('town' in data.columns):\n",
    "        data_input = data.drop(columns=['resale_price','town','street_name','block'],axis=1)\n",
    "    else:\n",
    "        data_input = data.drop('resale_price' ,axis=1)\n",
    "    data_output = data['resale_price']\n",
=======
    "def random_f(data,cv,version):\n",
    "    start = time.time()\n",
    "    \n",
    "    if ('town' in data.columns):\n",
    "        data_input = data.drop(columns=['resale_price','town'],axis=1)\n",
    "    else:\n",
    "        data_input = data.drop('resale_price' ,axis=1)\n",
    "    data_output = data['resale_price']\n",
    "    \n",
>>>>>>> 481ec44b258a85140a5b79c54fa0e389042c4959
    "    x_train, x_test, y_train, y_test = train_test_split(data_input, data_output, test_size=0.33, random_state=42)\n",
    "\n",
    "    model_Forest = RandomForestRegressor()\n",
    "    model_Forest.fit(x_train, y_train)\n",
    "    y_pred_f = model_Forest.predict(x_test)\n",
    "    #y_pred_f_train = model_Forest.predict(x_train)\n",
    "    \n",
    "    mae_f = mean_absolute_error(y_test, y_pred_f)\n",
    "    #mae_f_train = mean_absolute_error(y_train, y_pred_f_train)\n",
    "\n",
    "    print(\"\\nMAE for Random Forrest is: %.0f\"%mae_f)\n",
    "    #print(\"For the train set: %.0f\" %mae_f_train)\n",
    "\n",
    "    if (version == 1):\n",
    "        \n",
    "        importances = model_Forest.feature_importances_\n",
    "        indices = np.argsort(importances)[::-1]\n",
    "        columns = np.array(list(data_input))\n",
    "        \n",
    "        # Print the feature ranking\n",
    "        print(\"Feature ranking:\")\n",
    "        \n",
    "        for f in range(x_train.shape[1]):\n",
    "            print(\"%d. %s (%f)\" % (f + 1, columns[indices[f]], importances[indices[f]]))\n",
    "        \n",
<<<<<<< HEAD
    "    scores = cross_val_score(model_Forest, data_input, data_output, cv=5, scoring='neg_mean_absolute_error')\n",
    "    scores = - scores\n",
    "    #print(scores)\n",
    "    print(\"CV MAE: %0.2f (+/- %0.2f)\" % (scores.mean(), scores.std() * 2))\n",
=======
    "    if (cv == 1):\n",
    "        cv = ShuffleSplit(n_splits=3, test_size=0.33, random_state=42)\n",
    "        scores_rf = cross_val_score(model_Forest, data_input, data_output, cv=cv, scoring='neg_mean_absolute_error')\n",
    "        scores_rf = - scores_rf\n",
    "        print(scores_rf)\n",
    "        print(\"CV MAE: %0.2f (+/- %0.2f)\" % (scores_rf.mean(), scores_rf.std() * 2))\n",
>>>>>>> 481ec44b258a85140a5b79c54fa0e389042c4959
    "    \n",
    "    print('RF Time = %.0f'%(time.time() - start))\n",
    "    \n",
    "    if (version == 1):\n",
    "        return importances"
   ]
  },
  {
   "cell_type": "code",
<<<<<<< HEAD
   "execution_count": 437,
=======
   "execution_count": 42,
>>>>>>> 481ec44b258a85140a5b79c54fa0e389042c4959
   "metadata": {},
   "outputs": [],
   "source": [
    "# Linear Regression\n",
<<<<<<< HEAD
    "def lin_reg(data):\n",
    "    start = time.time()\n",
    "    \n",
    "    if ('town' in data.columns):\n",
    "        data_input = data.drop(columns=['resale_price','town','street_name','block'],axis=1)\n",
=======
    "def lin_reg(data,cv):\n",
    "    start = time.time()\n",
    "    \n",
    "    if ('town' in data.columns):\n",
    "        data_input = data.drop(columns=['resale_price','town'],axis=1)\n",
>>>>>>> 481ec44b258a85140a5b79c54fa0e389042c4959
    "    else:\n",
    "        data_input = data.drop('resale_price' ,axis=1)\n",
    "    data_output = data['resale_price']\n",
    "    x_train, x_test, y_train, y_test = train_test_split(data_input, data_output, test_size=0.33, random_state=42)\n",
    "\n",
    "    model_lin_reg = LinearRegression()\n",
    "    model_lin_reg.fit(x_train, y_train)\n",
    "    y_pred_l = model_lin_reg.predict(x_test)\n",
    "    #y_pred_l_train = model_Forest.predict(x_train)\n",
    "    \n",
    "    mae_l = mean_absolute_error(y_test, y_pred_l)\n",
    "    #mae_l_train = mean_absolute_error(y_train, y_pred_l_train)\n",
    "\n",
<<<<<<< HEAD
    "    print(\"\\nMAE for Linear Regression is: %.0f\"%mae_l)\n",
    "    #print(\"For the train set: %.0f\" %mae_l_train)\n",
    "    \n",
    "    cv_pred = cross_val_predict(model_lin_reg, data_input, data_output, cv=5)\n",
    "    mae_cv = mean_absolute_error(data_output, cv_pred)\n",
    "    print(\"\\nCV MAE for LR is: %.0f\"%mae_cv)\n",
    "    \n",
    "    scores = cross_val_score(model_lin_reg, data_input, data_output, cv=5, scoring='neg_mean_absolute_error')\n",
    "    scores = - scores\n",
    "    print(scores)\n",
    "    print(\"CV MAE: %0.2f (+/- %0.2f)\" % (scores.mean(), scores.std() * 2))\n",
=======
    "    print(\"\\nMean Absolute Error for Linear Regression is: %.0f\" %mae_l)\n",
    "    \n",
    "    if (cv == 1):\n",
    "        cv = ShuffleSplit(n_splits=3, test_size=0.33, random_state=42)\n",
    "        model_lin_reg_cv = LinearRegression()\n",
    "        scores_lr = cross_val_score(model_lin_reg_cv, data_input, data_output, cv=cv, scoring='neg_mean_absolute_error')\n",
    "        scores_lr = - scores_lr\n",
    "        print(scores_lr)\n",
    "        print(\"CV MAE: %0.2f (+/- %0.2f)\" % (scores_lr.mean(), scores_lr.std() * 2))\n",
>>>>>>> 481ec44b258a85140a5b79c54fa0e389042c4959
    "    \n",
    "    print('LR Time = %.0f'%(time.time() - start))"
   ]
  },
  {
   "cell_type": "code",
<<<<<<< HEAD
   "execution_count": 425,
=======
   "execution_count": 43,
>>>>>>> 481ec44b258a85140a5b79c54fa0e389042c4959
   "metadata": {},
   "outputs": [],
   "source": [
    "# Run AdaBoost\n",
<<<<<<< HEAD
    "def ada(data):\n",
    "    start = time.time()\n",
    "    \n",
    "    if ('town' in data.columns):\n",
    "        data_input = data.drop(columns=['resale_price','town','street_name','block'],axis=1)\n",
=======
    "def ada(data,cv):\n",
    "    start = time.time()\n",
    "    \n",
    "    if ('town' in data.columns):\n",
    "        data_input = data.drop(columns=['resale_price','town'],axis=1)\n",
>>>>>>> 481ec44b258a85140a5b79c54fa0e389042c4959
    "    else:\n",
    "        data_input = data.drop('resale_price' ,axis=1)\n",
    "    data_output = data['resale_price']\n",
    "    x_train, x_test, y_train, y_test = train_test_split(data_input, data_output, test_size=0.33, random_state=42)\n",
    "\n",
    "    model_abr = AdaBoostRegressor()\n",
    "    model_abr.fit(x_train, y_train)\n",
    "    y_pred_abr = model_abr.predict(x_test)\n",
    "    \n",
    "    mae_abr = mean_absolute_error(y_test, y_pred_abr)\n",
    "\n",
    "    print(\"\\nMean Absolute Error for AdaBoost is: %.0f\" %mae_abr)\n",
    "    \n",
<<<<<<< HEAD
    "    scores = cross_val_score(model_abr, data_input, data_output, cv=5, scoring='neg_mean_absolute_error')\n",
    "    scores = - scores\n",
    "    #print(scores)\n",
    "    print(\"CV MAE: %0.2f (+/- %0.2f)\" % (scores.mean(), scores.std() * 2))\n",
=======
    "    if (cv == 1):\n",
    "        cv = ShuffleSplit(n_splits=3, test_size=0.33, random_state=42)\n",
    "        scores_ada = cross_val_score(model_abr, data_input, data_output, cv=cv, scoring='neg_mean_absolute_error')\n",
    "        scores_ada = - scores_ada\n",
    "        print(scores_ada)\n",
    "        print(\"CV MAE: %0.2f (+/- %0.2f)\" % (scores_ada.mean(), scores_ada.std() * 2))\n",
>>>>>>> 481ec44b258a85140a5b79c54fa0e389042c4959
    "    \n",
    "    print('Ada Time = %.0f'%(time.time() - start))\n"
   ]
  },
  {
   "cell_type": "code",
<<<<<<< HEAD
   "execution_count": 426,
=======
   "execution_count": 44,
>>>>>>> 481ec44b258a85140a5b79c54fa0e389042c4959
   "metadata": {},
   "outputs": [],
   "source": [
    "# Run GradientBoostingRegressor\n",
<<<<<<< HEAD
    "def gbr(data):\n",
    "    start = time.time()\n",
    "    \n",
    "    if ('town' in data.columns):\n",
    "        data_input = data.drop(columns=['resale_price','town','street_name','block'],axis=1)\n",
=======
    "def gbr(data,cv):\n",
    "    start = time.time()\n",
    "    \n",
    "    if ('town' in data.columns):\n",
    "        data_input = data.drop(columns=['resale_price','town'],axis=1)\n",
>>>>>>> 481ec44b258a85140a5b79c54fa0e389042c4959
    "    else:\n",
    "        data_input = data.drop('resale_price' ,axis=1)\n",
    "    data_output = data['resale_price']\n",
    "    x_train, x_test, y_train, y_test = train_test_split(data_input, data_output, test_size=0.33, random_state=42)\n",
    "\n",
    "    model_gbr = GradientBoostingRegressor()\n",
    "    model_gbr.fit(x_train, y_train)\n",
    "    y_pred_gbr = model_gbr.predict(x_test)\n",
    "    \n",
    "    mae_gbr = mean_absolute_error(y_test, y_pred_gbr)\n",
    "\n",
    "    print(\"\\nMean Absolute Error for GradientBoostingRegressor is: %.0f\" %mae_gbr) \n",
    "    \n",
<<<<<<< HEAD
    "    scores = cross_val_score(model_gbr, data_input, data_output, cv=5, scoring='neg_mean_absolute_error')\n",
    "    scores = - scores\n",
    "    #print(scores)\n",
    "    print(\"CV MAE: %0.2f (+/- %0.2f)\" % (scores.mean(), scores.std() * 2))\n",
=======
    "    if (cv == 1):\n",
    "        cv = ShuffleSplit(n_splits=3, test_size=0.33, random_state=42)\n",
    "        scores_gbr = cross_val_score(model_gbr, data_input, data_output, cv=cv, scoring='neg_mean_absolute_error')\n",
    "        scores_gbr = - scores_gbr\n",
    "        print(scores_gbr)\n",
    "        print(\"CV MAE: %0.2f (+/- %0.2f)\" % (scores_gbr.mean(), scores_gbr.std() * 2))\n",
>>>>>>> 481ec44b258a85140a5b79c54fa0e389042c4959
    "    \n",
    "    print('GBR Time = %.0f'%(time.time() - start))"
   ]
  },
  {
   "cell_type": "code",
<<<<<<< HEAD
   "execution_count": 427,
=======
   "execution_count": 45,
>>>>>>> 481ec44b258a85140a5b79c54fa0e389042c4959
   "metadata": {},
   "outputs": [],
   "source": [
    "# Run XGD Boost\n",
<<<<<<< HEAD
    "def xg_boost(data):\n",
    "    start = time.time()\n",
    "    \n",
    "    if ('town' in data.columns):\n",
    "        data_input = data.drop(columns=['resale_price','town','street_name','block'],axis=1)\n",
=======
    "def xg_boost(data,cv):\n",
    "    start = time.time()\n",
    "    \n",
    "    if ('town' in data.columns):\n",
    "        data_input = data.drop(columns=['resale_price','town'],axis=1)\n",
>>>>>>> 481ec44b258a85140a5b79c54fa0e389042c4959
    "    else:\n",
    "        data_input = data.drop('resale_price' ,axis=1)\n",
    "    data_output = data['resale_price']\n",
    "    x_train, x_test, y_train, y_test = train_test_split(data_input, data_output, test_size=0.33, random_state=42)\n",
    "    \n",
    "    dtrain = xgb.DMatrix(x_train, label = y_train)\n",
    "    dtest = xgb.DMatrix(x_test, label = y_train)\n",
    "    param = {\n",
    "        'max_depth': 3,  # the maximum depth of each tree. Try with max_depth: 2 to 10.\n",
    "        'eta': 0.3,  # the training step for each iteration. Try with ETA: 0.1, 0.2, 0.3...\n",
    "        'silent': 1,  # logging mode - quiet\n",
    "        'objective': 'reg:linear'}  # defines the loss function to be minimized  \n",
    "    num_round = 20  # the number of training iterations. Try with num_round around few hundred!\n",
    "    #----------------\n",
    "    bst = xgb.train(param, dtrain, num_round)\n",
    "    y_pred_xgb = bst.predict(dtest)\n",
    "    best_preds = np.asarray([np.argmax(line) for line in y_pred_xgb])\n",
    "\n",
    "    mae_xgb = mean_absolute_error(y_test, y_pred_xgb)\n",
    "\n",
    "    print(\"\\nMean Absolute Error for XGBoost is: %.0f\" %mae_xgb)\n",
    "    #xgb.plot_importance(bst)\n",
    "    #plt.show()\n",
    "    \n",
<<<<<<< HEAD
    "    scores = cross_val_score(xgb.train, data_input, data_output, cv=5, scoring='neg_mean_absolute_error')\n",
    "    scores = - scores\n",
    "    #print(scores)\n",
    "    print(\"CV MAE: %0.2f (+/- %0.2f)\" % (scores.mean(), scores.std() * 2))\n",
=======
    "    if (cv == 1):\n",
    "        cv = ShuffleSplit(n_splits=3, test_size=0.33, random_state=42)\n",
    "        scores_xgb = cross_val_score(xgb.train, data_input, data_output, cv=cv, scoring='neg_mean_absolute_error')\n",
    "        scores_xgb = - scores_xgb\n",
    "        print(scores_xgb)\n",
    "        print(\"CV MAE: %0.2f (+/- %0.2f)\" % (scores_xgb.mean(), scores_xgb.std() * 2))\n",
>>>>>>> 481ec44b258a85140a5b79c54fa0e389042c4959
    "    \n",
    "    print('XGB Time = %.0f'%(time.time() - start))"
   ]
  },
  {
   "cell_type": "markdown",
   "metadata": {},
   "source": [
    "Some columns are still of 'object' type and need to be changed to int or float in order to run XGBoost."
   ]
  },
  {
   "cell_type": "code",
<<<<<<< HEAD
   "execution_count": 428,
=======
   "execution_count": 46,
>>>>>>> 481ec44b258a85140a5b79c54fa0e389042c4959
   "metadata": {},
   "outputs": [],
   "source": [
    "# Neural Network\n",
<<<<<<< HEAD
    "def neural(data):\n",
    "    start = time.time()\n",
    "    \n",
    "    if ('town' in data.columns):\n",
    "        data_input = data.drop(columns=['resale_price','town','street_name','block'],axis=1)\n",
=======
    "def neural(data,cv):\n",
    "    start = time.time()\n",
    "    \n",
    "    if ('town' in data.columns):\n",
    "        data_input = data.drop(columns=['resale_price','town'],axis=1)\n",
>>>>>>> 481ec44b258a85140a5b79c54fa0e389042c4959
    "    else:\n",
    "        data_input = data.drop('resale_price' ,axis=1)\n",
    "    data_output = data['resale_price']\n",
    "    x_train, x_test, y_train, y_test = train_test_split(data_input, data_output, test_size=0.33, random_state=42)\n",
    "\n",
    "    model_n = MLPRegressor()\n",
    "    model_n.fit(x_train, y_train)\n",
    "    y_pred_n = model_n.predict(x_test)\n",
    "    \n",
    "    mae_n = mean_absolute_error(y_test, y_pred_n)\n",
    "\n",
    "    print(\"\\nMean Absolute Error for Neural Network is: %.0f\" %mae_n)  \n",
    "    \n",
<<<<<<< HEAD
    "    scores = cross_val_score(model_n, data_input, data_output, cv=5, scoring='neg_mean_absolute_error')\n",
    "    scores = - scores\n",
    "    #print(scores)\n",
    "    print(\"CV MAE: %0.2f (+/- %0.2f)\" % (scores.mean(), scores.std() * 2))\n",
    "    \n",
    "    print('Neural Time = %.0f'%(time.time() - start))"
=======
    "    if (cv == 1):\n",
    "        cv = ShuffleSplit(n_splits=3, test_size=0.33, random_state=42)\n",
    "        scores = cross_val_score(model_n, data_input, data_output, cv=cv, scoring='neg_mean_absolute_error')\n",
    "        scores = - scores\n",
    "        print(scores)\n",
    "        print(\"CV MAE: %0.2f (+/- %0.2f)\" % (scores.mean(), scores.std() * 2))\n",
    "    \n",
    "    #print('Neural Time = %.0f'%(time.time() - start))"
>>>>>>> 481ec44b258a85140a5b79c54fa0e389042c4959
   ]
  },
  {
   "cell_type": "markdown",
   "metadata": {},
   "source": [
    "### 4.2 Analysis"
   ]
  },
  {
   "cell_type": "markdown",
   "metadata": {},
   "source": [
    "#### Analysis only on data encoding\n",
    "Some columns are still of 'object' type and need to be changed to int or float in order to run XGBoost."
   ]
  },
  {
   "cell_type": "code",
<<<<<<< HEAD
   "execution_count": 450,
=======
   "execution_count": 75,
>>>>>>> 481ec44b258a85140a5b79c54fa0e389042c4959
   "metadata": {},
   "outputs": [
    {
     "name": "stdout",
     "output_type": "stream",
     "text": [
      "sales_month              int64\n",
      "sales_year               int64\n",
      "town                    object\n",
<<<<<<< HEAD
      "flat_type               object\n",
      "block                   object\n",
      "street_name             object\n",
      "storey_range            object\n",
      "floor_area_sqm         float64\n",
      "flat_model              object\n",
=======
      "flat_type                int64\n",
      "storey_range             int64\n",
      "floor_area_sqm         float64\n",
      "flat_model               int64\n",
>>>>>>> 481ec44b258a85140a5b79c54fa0e389042c4959
      "lease_commence_date      int64\n",
      "resale_price           float64\n",
      "dtype: object\n",
      "sales_month              int64\n",
      "sales_year               int64\n",
      "town                    object\n",
      "flat_type                int64\n",
<<<<<<< HEAD
      "block                   object\n",
      "street_name             object\n",
=======
>>>>>>> 481ec44b258a85140a5b79c54fa0e389042c4959
      "storey_range             int64\n",
      "floor_area_sqm         float64\n",
      "flat_model               int64\n",
      "lease_commence_date      int64\n",
      "resale_price           float64\n",
      "dtype: object\n"
     ]
    }
   ],
   "source": [
    "print(data_enc.dtypes)\n",
    "data_enc['flat_type'] = pd.to_numeric(data_enc['flat_type'])\n",
    "data_enc['storey_range'] = pd.to_numeric(data_enc['storey_range'])\n",
    "data_enc['flat_model'] = pd.to_numeric(data_enc['flat_model'])\n",
    "print(data_enc.dtypes)"
   ]
  },
  {
   "cell_type": "markdown",
   "metadata": {},
   "source": [
    "To quickly different algorithms and features, we use a sample size of the full train data.<br>"
   ]
  },
  {
   "cell_type": "code",
<<<<<<< HEAD
   "execution_count": 81,
   "metadata": {},
   "outputs": [],
   "source": [
    "#data_sample = data_enc.sample(frac=0.1)"
=======
   "execution_count": 69,
   "metadata": {},
   "outputs": [],
   "source": [
    "data_sample = data_enc.sample(frac=0.1)"
>>>>>>> 481ec44b258a85140a5b79c54fa0e389042c4959
   ]
  },
  {
   "cell_type": "code",
<<<<<<< HEAD
   "execution_count": 451,
=======
   "execution_count": 101,
>>>>>>> 481ec44b258a85140a5b79c54fa0e389042c4959
   "metadata": {
    "scrolled": true
   },
   "outputs": [
    {
     "name": "stdout",
     "output_type": "stream",
     "text": [
      "\n",
<<<<<<< HEAD
      "MAE for Linear Regression is: 54213\n",
      "\n",
      "CV MAE for LR is: 67017\n",
      "[ 54342.59324794  51772.15589677  51043.05756689  76133.48343597\n",
      " 101791.69391596]\n",
      "CV MAE: 67016.60 (+/- 39401.55)\n",
      "LR Time = 3\n",
      "\n",
      "MAE for Random Forrest is: 28674\n",
      "CV MAE: 63052.35 (+/- 58323.71)\n",
      "RF Time = 95\n"
=======
      "Mean Absolute Error for Linear Regression is: 54213\n",
      "[54212.9373266  54437.14668647 54186.27962276]\n",
      "CV MAE: 54278.79 (+/- 225.01)\n",
      "LR Time = 1\n",
      "\n",
      "MAE for Random Forrest is: 28715\n",
      "[28719.77335953 28746.1592717  28627.51033779]\n",
      "CV MAE: 28697.81 (+/- 101.73)\n",
      "RF Time = 67\n"
>>>>>>> 481ec44b258a85140a5b79c54fa0e389042c4959
     ]
    }
   ],
   "source": [
<<<<<<< HEAD
    "lin_reg(data_enc)\n",
    "random_f(data_enc,0)\n",
    "#ada(data_sample)\n",
    "#gbr(data_sample)\n",
    "#xg_boost(data_sample)\n",
    "#neural(data_sample)"
=======
    "lin_reg(data_enc,1)\n",
    "random_f(data_enc,1,0)\n",
    "#ada(data_enc)\n",
    "#gbr(data_enc)\n",
    "#xg_boost(data_enc)\n",
    "#neural(data_enc)"
>>>>>>> 481ec44b258a85140a5b79c54fa0e389042c4959
   ]
  },
  {
   "cell_type": "markdown",
   "metadata": {},
   "source": [
    "#### Analysis on one hot encoding"
   ]
  },
  {
   "cell_type": "code",
   "execution_count": 400,
   "metadata": {},
   "outputs": [],
   "source": [
    "#data_sample = data_henc.sample(frac=0.1)"
   ]
  },
  {
   "cell_type": "code",
<<<<<<< HEAD
   "execution_count": 458,
   "metadata": {
    "scrolled": true
   },
   "outputs": [
    {
     "name": "stdout",
     "output_type": "stream",
     "text": [
      "\n",
      "MAE for Linear Regression is: 47967\n",
      "\n",
      "CV MAE for LR is: 80821147992\n",
      "[5.55231440e+04 4.94609489e+04 4.30440728e+04 6.78578582e+04\n",
      " 4.04106055e+11]\n",
      "CV MAE: 80821254085.92 (+/- 323284800457.67)\n",
      "LR Time = 34\n",
      "\n",
      "MAE for Random Forrest is: 15857\n",
      "CV MAE: 57013.50 (+/- 65724.58)\n",
      "RF Time = 285\n"
     ]
    }
   ],
   "source": [
    "lin_reg(data_henc)\n",
    "random_f(data_henc,0)\n",
    "#ada(data_sample)\n",
    "#gbr(data_sample)\n",
    "#xg_boost(data_sample)\n",
    "#neural(data_sample)"
=======
   "execution_count": null,
   "metadata": {
    "scrolled": true
   },
   "outputs": [],
   "source": [
    "lin_reg(data_henc)\n",
    "random_f(data_henc,0)\n",
    "ada(data_henc)\n",
    "gbr(data_henc)\n",
    "xg_boost(data_henc)\n",
    "neural(data_henc)"
>>>>>>> 481ec44b258a85140a5b79c54fa0e389042c4959
   ]
  },
  {
   "cell_type": "markdown",
   "metadata": {},
   "source": [
    "#### Analysis on one new feature (remaining lease)"
   ]
  },
  {
   "cell_type": "code",
   "execution_count": 461,
   "metadata": {},
   "outputs": [],
   "source": [
    "#data_sample = data_f.sample(frac=0.1)"
   ]
  },
  {
   "cell_type": "code",
<<<<<<< HEAD
   "execution_count": 462,
   "metadata": {},
=======
   "execution_count": null,
   "metadata": {},
   "outputs": [],
   "source": [
    "lin_reg(data_f)\n",
    "random_f(data_f,0)\n",
    "ada(data_f)\n",
    "gbr(data_f)\n",
    "xg_boost(data_f)\n",
    "#neural(data_f)"
   ]
  },
  {
   "cell_type": "markdown",
   "metadata": {},
   "source": [
    "Scores improved and thus we will keep this feature."
   ]
  },
  {
   "cell_type": "markdown",
   "metadata": {},
   "source": [
    "#### Analysis on two new features (remaining lease and area)"
   ]
  },
  {
   "cell_type": "code",
   "execution_count": 127,
   "metadata": {},
   "outputs": [],
   "source": [
    "data_sample = data_2f.sample(frac=0.1)"
   ]
  },
  {
   "cell_type": "code",
   "execution_count": 128,
   "metadata": {
    "scrolled": false
   },
>>>>>>> 481ec44b258a85140a5b79c54fa0e389042c4959
   "outputs": [
    {
     "name": "stdout",
     "output_type": "stream",
     "text": [
      "\n",
<<<<<<< HEAD
      "MAE for Linear Regression is: 47966\n",
      "\n",
      "CV MAE for LR is: 1483988978\n",
      "[5.55346397e+04 4.95423832e+04 4.30014764e+04 6.77632416e+04\n",
      " 7.41973879e+09]\n",
      "CV MAE: 1483990926.29 (+/- 5935747863.45)\n",
      "LR Time = 32\n",
      "\n",
      "MAE for Random Forrest is: 15897\n",
      "CV MAE: 57329.53 (+/- 67324.44)\n",
      "RF Time = 318\n"
=======
      "Mean Absolute Error for Linear Regression is: 48246\n",
      "LR Time = 0\n",
      "\n",
      "MAE for Random Forrest is: 19146\n",
      "RF Time = 4\n"
>>>>>>> 481ec44b258a85140a5b79c54fa0e389042c4959
     ]
    }
   ],
   "source": [
<<<<<<< HEAD
    "lin_reg(data_f)\n",
    "random_f(data_f,0)\n",
=======
    "lin_reg(data_sample,0)\n",
    "random_f(data_sample,0,0)\n",
>>>>>>> 481ec44b258a85140a5b79c54fa0e389042c4959
    "#ada(data_sample)\n",
    "#gbr(data_sample)\n",
    "#xg_boost(data_sample)\n",
    "#neural(data_sample)"
   ]
  },
  {
   "cell_type": "markdown",
   "metadata": {},
   "source": [
<<<<<<< HEAD
    "Scores improved and thus we will keep this feature."
   ]
  },
  {
   "cell_type": "markdown",
   "metadata": {},
   "source": [
    "#### Analysis on two new features (remaining lease and area)"
=======
    "#### Analysis on three new features (remaining lease, area and GDP per Capita)"
   ]
  },
  {
   "cell_type": "code",
   "execution_count": 129,
   "metadata": {},
   "outputs": [],
   "source": [
    "data_sample = data_3f.sample(frac=0.1)"
>>>>>>> 481ec44b258a85140a5b79c54fa0e389042c4959
   ]
  },
  {
   "cell_type": "code",
<<<<<<< HEAD
   "execution_count": null,
   "metadata": {},
   "outputs": [],
   "source": [
    "#data_sample = data_2f.sample(frac=0.1)"
=======
   "execution_count": 131,
   "metadata": {
    "scrolled": false
   },
   "outputs": [
    {
     "name": "stdout",
     "output_type": "stream",
     "text": [
      "\n",
      "Mean Absolute Error for Linear Regression is: 41257\n",
      "LR Time = 1\n",
      "\n",
      "MAE for Random Forrest is: 17390\n",
      "[17379.59385903 17339.29656545 17450.03345882]\n",
      "CV MAE: 17389.64 (+/- 91.53)\n",
      "RF Time = 33\n"
     ]
    }
   ],
   "source": [
    "lin_reg(data_sample,0)\n",
    "random_f(data_sample,1,0)\n",
    "#ada(data_sample)\n",
    "#gbr(data_sample)\n",
    "#xg_boost(data_sample)\n",
    "#neural(data_sample)"
   ]
  },
  {
   "cell_type": "code",
   "execution_count": 47,
   "metadata": {},
   "outputs": [],
   "source": [
    "data_sample = data_4f.sample(frac=0.1)"
>>>>>>> 481ec44b258a85140a5b79c54fa0e389042c4959
   ]
  },
  {
   "cell_type": "code",
<<<<<<< HEAD
   "execution_count": null,
   "metadata": {
    "scrolled": false
   },
=======
   "execution_count": 48,
   "metadata": {},
>>>>>>> 481ec44b258a85140a5b79c54fa0e389042c4959
   "outputs": [
    {
     "name": "stdout",
     "output_type": "stream",
     "text": [
      "\n",
<<<<<<< HEAD
      "MAE for Linear Regression is: 47967\n",
      "\n",
      "CV MAE for LR is: 1623803889\n",
      "[5.55406502e+04 4.95154195e+04 4.30006576e+04 6.79226634e+04\n",
      " 8.11881412e+09]\n",
      "CV MAE: 1623806020.78 (+/- 6495008103.76)\n",
      "LR Time = 48\n",
      "\n",
      "MAE for Random Forrest is: 15743\n",
      "Feature ranking:\n",
      "1. sales_year (0.448171)\n",
      "2. floor_area_sqm (0.333070)\n",
      "3. flat_type_4 ROOM (0.061564)\n",
      "4. area_CENTRAL (0.046042)\n",
      "5. flat_type_EXECUTIVE (0.017893)\n",
      "6. lease_commence_date (0.017874)\n",
      "7. sales_month (0.010372)\n",
      "8. flat_type_5 ROOM (0.008035)\n",
      "9. remaining_lease (0.007540)\n",
      "10. area_EAST (0.003468)\n",
      "11. town_CLEMENTI (0.003287)\n",
      "12. town_ANG MO KIO (0.002864)\n",
      "13. storey_range_01 TO 03 (0.002590)\n",
      "14. area_WEST (0.002310)\n",
      "15. town_TAMPINES (0.002223)\n",
      "16. flat_model_Adjoined flat (0.002042)\n",
      "17. town_JURONG WEST (0.001902)\n",
      "18. town_BEDOK (0.001633)\n",
      "19. flat_model_Model A (0.001528)\n",
      "20. storey_range_04 TO 06 (0.001425)\n",
      "21. town_GEYLANG (0.001362)\n",
      "22. town_MARINE PARADE (0.001198)\n",
      "23. town_YISHUN (0.001121)\n",
      "24. town_WOODLANDS (0.001087)\n",
      "25. town_BUKIT BATOK (0.001002)\n",
      "26. storey_range_07 TO 09 (0.000935)\n",
      "27. town_CHOA CHU KANG (0.000932)\n",
      "28. storey_range_10 TO 12 (0.000909)\n",
      "29. flat_model_Terrace (0.000818)\n",
      "30. town_SERANGOON (0.000816)\n",
      "31. flat_model_Improved (0.000792)\n",
      "32. area_NORTH EAST (0.000781)\n",
      "33. town_QUEENSTOWN (0.000775)\n",
      "34. town_TOA PAYOH (0.000742)\n",
      "35. town_CENTRAL AREA (0.000730)\n",
      "36. town_JURONG EAST (0.000653)\n",
      "37. town_BISHAN (0.000630)\n",
      "38. storey_range_13 TO 15 (0.000601)\n",
      "39. town_BUKIT PANJANG (0.000593)\n",
      "40. town_PASIR RIS (0.000551)\n",
      "41. town_KALLANG/WHAMPOA (0.000548)\n",
      "42. flat_model_DBSS (0.000537)\n",
      "43. town_BUKIT MERAH (0.000473)\n",
      "44. area_NORTH (0.000446)\n",
      "45. storey_range_16 TO 18 (0.000428)\n",
      "46. flat_model_New Generation (0.000414)\n",
      "47. town_HOUGANG (0.000412)\n",
      "48. flat_model_Standard (0.000392)\n",
      "49. flat_model_Premium Apartment (0.000387)\n",
      "50. storey_range_19 TO 21 (0.000385)\n",
      "51. storey_range_22 TO 24 (0.000340)\n",
      "52. town_SENGKANG (0.000311)\n",
      "53. flat_type_3 ROOM (0.000311)\n",
      "54. town_BUKIT TIMAH (0.000223)\n",
      "55. flat_model_Simplified (0.000204)\n",
      "56. flat_model_Maisonette (0.000155)\n",
      "57. storey_range_25 TO 27 (0.000153)\n",
      "58. flat_model_Apartment (0.000141)\n",
      "59. flat_model_Type S1 (0.000131)\n",
      "60. storey_range_28 TO 30 (0.000086)\n",
      "61. flat_type_MULTI GENERATION (0.000068)\n",
      "62. town_PUNGGOL (0.000067)\n",
      "63. flat_model_Model A-Maisonette (0.000067)\n",
      "64. flat_model_Apertment (0.000065)\n",
      "65. flat_model_Model A2 (0.000064)\n",
      "66. town_SEMBAWANG (0.000062)\n",
      "67. flat_type_2 ROOM (0.000059)\n",
      "68. flat_model_Multi Generation (0.000058)\n",
      "69. flat_model_Improved-Maisonette (0.000033)\n",
      "70. flat_model_Premium Maisonette (0.000026)\n",
      "71. storey_range_37 TO 39 (0.000019)\n",
      "72. storey_range_40 TO 42 (0.000016)\n",
      "73. flat_model_Type S2 (0.000015)\n",
      "74. flat_type_1 ROOM (0.000012)\n",
      "75. storey_range_34 TO 36 (0.000010)\n",
      "76. storey_range_31 TO 33 (0.000008)\n",
      "77. storey_range_46 TO 48 (0.000004)\n",
      "78. storey_range_43 TO 45 (0.000003)\n",
      "79. flat_model_Premium Apartment Loft (0.000003)\n",
      "80. town_LIM CHU KANG (0.000002)\n",
      "81. storey_range_49 TO 51 (0.000002)\n",
      "82. flat_model_2-room (0.000000)\n"
=======
      "Mean Absolute Error for Linear Regression is: 38670\n",
      "LR Time = 1\n",
      "\n",
      "MAE for Random Forrest is: 17373\n",
      "[17398.34855955 17384.80204165 17396.19735617]\n",
      "CV MAE: 17393.12 (+/- 11.89)\n",
      "RF Time = 35\n"
>>>>>>> 481ec44b258a85140a5b79c54fa0e389042c4959
     ]
    }
   ],
   "source": [
<<<<<<< HEAD
    "lin_reg(data_2f)\n",
    "random_f(data_2f,1)\n",
=======
    "lin_reg(data_sample,0)\n",
    "random_f(data_sample,1,0)\n",
>>>>>>> 481ec44b258a85140a5b79c54fa0e389042c4959
    "#ada(data_sample)\n",
    "#gbr(data_sample)\n",
    "#xg_boost(data_sample)\n",
    "#neural(data_sample)"
   ]
  },
  {
   "cell_type": "markdown",
   "metadata": {},
   "source": [
    "#### Analysis on Normalization Data"
   ]
  },
  {
   "cell_type": "code",
   "execution_count": null,
   "metadata": {},
   "outputs": [],
   "source": [
    "#data_sample = data_z.sample(frac=0.1)"
   ]
  },
  {
   "cell_type": "code",
   "execution_count": null,
   "metadata": {},
   "outputs": [],
   "source": [
    "print('\\n### z-scoring ###')\n",
    "lin_reg(data_z)\n",
    "random_f(data_z,0)\n",
<<<<<<< HEAD
    "#ada(data_sample)\n",
    "#gbr(data_sample)\n",
    "#xg_boost(data_sample)\n",
=======
    "ada(data_z)\n",
    "gbr(data_z)\n",
    "xg_boost(data_z)\n",
>>>>>>> 481ec44b258a85140a5b79c54fa0e389042c4959
    "#neural(data_sample)"
   ]
  },
  {
   "cell_type": "markdown",
   "metadata": {},
   "source": [
    "#### Analysis on max-min normalization data"
   ]
  },
  {
   "cell_type": "code",
   "execution_count": null,
   "metadata": {},
   "outputs": [],
   "source": [
    "#data_sample = data_n.sample(frac=0.1)"
   ]
  },
  {
   "cell_type": "code",
   "execution_count": null,
   "metadata": {},
   "outputs": [],
   "source": [
    "print('\\n### max/min ###')\n",
    "lin_reg(data_n)\n",
    "random_f(data_n,0)\n",
<<<<<<< HEAD
    "#ada(data_sample)\n",
    "#gbr(data_sample)\n",
    "#xg_boost(data_sample)\n",
    "#neural(data_sample)"
=======
    "ada(data_n)\n",
    "gbr(data_n)\n",
    "xg_boost(data_n)\n",
    "#neural(data_n)"
>>>>>>> 481ec44b258a85140a5b79c54fa0e389042c4959
   ]
  },
  {
   "cell_type": "markdown",
   "metadata": {},
   "source": [
    "nothing happened"
   ]
  },
  {
   "cell_type": "markdown",
   "metadata": {},
   "source": [
    "#### Addition One hot Encoding of Months and Years"
   ]
  },
  {
   "cell_type": "code",
   "execution_count": 382,
   "metadata": {},
   "outputs": [],
   "source": [
    "#data_sample = data_henc_2.sample(frac=0.1)"
   ]
  },
  {
   "cell_type": "code",
<<<<<<< HEAD
   "execution_count": 383,
   "metadata": {
    "scrolled": true
   },
   "outputs": [
    {
     "name": "stdout",
     "output_type": "stream",
     "text": [
      "\n",
      "MAE for Linear Regression is: 29559\n",
      "LR Time = 9\n",
      "\n",
      "MAE for Random Forrest is: 16084\n",
      "RF Time = 145\n"
     ]
    }
   ],
   "source": [
    "lin_reg(data_henc_2)\n",
    "random_f(data_henc_2,0)\n",
    "#ada(data_sample)\n",
    "#gbr(data_sample)\n",
    "#xg_boost(data_sample)\n",
=======
   "execution_count": null,
   "metadata": {
    "scrolled": true
   },
   "outputs": [],
   "source": [
    "lin_reg(data_henc_2)\n",
    "random_f(data_henc_2,0)\n",
    "ada(data_henc_2)\n",
    "gbr(data_henc_2)\n",
    "xg_boost(data_henc_2)\n",
>>>>>>> 481ec44b258a85140a5b79c54fa0e389042c4959
    "#neural(data_sample)"
   ]
  },
  {
   "cell_type": "markdown",
   "metadata": {},
   "source": [
    "its horsecrap, will not do"
   ]
  },
  {
   "cell_type": "markdown",
   "metadata": {},
   "source": [
    "### 3.6 Reduced Features"
   ]
  },
  {
   "cell_type": "code",
   "execution_count": null,
   "metadata": {},
   "outputs": [],
   "source": [
    "data_r = data_2f.copy()"
   ]
  },
  {
   "cell_type": "code",
   "execution_count": null,
   "metadata": {},
   "outputs": [],
   "source": [
    "print(data_r.shape)"
   ]
  },
  {
   "cell_type": "code",
   "execution_count": null,
   "metadata": {},
   "outputs": [],
   "source": [
    "#data_sample = data_r.sample(frac=0.1)"
   ]
  },
  {
   "cell_type": "code",
   "execution_count": null,
   "metadata": {},
   "outputs": [],
   "source": [
    "importances = random_f(data_r,1)"
   ]
  },
  {
   "cell_type": "code",
   "execution_count": null,
   "metadata": {},
   "outputs": [],
   "source": [
    "#indices = np.argsort(importances)[::-1]\n",
    "columns = np.array(list(data_r.drop('resale_price',1)))\n",
    "\n",
    "for i in range(0,len(columns)):\n",
    "    feature = columns[i]\n",
    "    weight = importances[i]\n",
    "    if (weight < 0.000026):\n",
    "        del data_r[feature]\n",
    "        \n",
    "print(data_r.shape)"
   ]
  },
  {
   "cell_type": "code",
   "execution_count": null,
   "metadata": {},
   "outputs": [],
   "source": [
    "lin_reg(data_r)\n",
    "random_f(data_r,0)\n",
<<<<<<< HEAD
    "#ada(data_sample)\n",
    "#gbr(data_sample)\n",
    "#xg_boost(data_sample)\n",
=======
    "ada(data_r)\n",
    "gbr(data_r)\n",
    "xg_boost(data_r)\n",
>>>>>>> 481ec44b258a85140a5b79c54fa0e389042c4959
    "#neural(data_sample)"
   ]
  },
  {
   "cell_type": "markdown",
   "metadata": {},
   "source": [
    "- deleting any features with low importance only made the result worse\n",
    "- some overall not important at all but maybe very important for the few datapoints"
   ]
  },
  {
   "cell_type": "markdown",
   "metadata": {},
   "source": [
    "### 3.5 Split Data\n",
    "\n",
    "Following our assumption in the previous chapter, we also try to run the regressions on seperate datasets to research whether the accuracy will increase."
   ]
  },
  {
   "cell_type": "markdown",
   "metadata": {},
   "source": [
    "Looking at the average price per square meter in the sales years, periods can be identified. The first period identified is the economic growth from 1990 until 1997 [13]. The \"Asian Crisis\" of 1997-1998 affected Singapore and other emerging markets, which is visible from the decline in resale price in the data [14]. In the subsequent years, Singapore had a stable growth in economic terms, but coped with the economic slowdown in the US, Japan and the EU. Combined with the SARS outbreak in 2003, the resale prices remained relatively stable until 2007. According to [15], the HDB resale prices from 2007 onwards grew even faster than the private property market. [15] argues that the increase in price is the result of an increase in median income of Singaporeans. \n",
    "\n",
    "\n",
    "Splitting the dataset in these periods could help to predict the resale prices of HDB in Singapore. We thereby assume that the resale prices of data in the first period (i.e. 1990-1997) will be less accurate to predict the resale price in 2018. This is based on both economic motives, as well as demographic motives (e.g. increased population and land mass)."
   ]
  },
  {
   "cell_type": "code",
   "execution_count": null,
   "metadata": {},
   "outputs": [],
   "source": [
    "# Creating the datasets based on the periods described\n",
    "data_period1 = data_2f.loc[data['sales_year'].isin(['1990','1991','1992','1993','1994','1995','1996','1997','1998'])]\n",
    "data_period2 = data_2f.loc[data['sales_year'].isin(['1999','2000','2001','2002','2003','2004','2005','2006','2007'])]\n",
    "data_period3 = data_2f.loc[data['sales_year'].isin(['2008','2009','2010','2011','2012','2013''2014','2015','2016','2017','2018'])]\n"
   ]
  },
  {
   "cell_type": "code",
   "execution_count": null,
   "metadata": {},
   "outputs": [],
   "source": [
    "#data_sample_p1 = data_period1.sample(frac=0.1)\n",
    "#data_sample_p2 = data_period2.sample(frac=0.1)\n",
    "#data_sample_p3 = data_period3.sample(frac=0.1)\n"
   ]
  },
  {
   "cell_type": "code",
   "execution_count": null,
   "metadata": {},
   "outputs": [],
   "source": [
    "periods = [data_period1,data_period2,data_period3]\n",
    "for i in range(0,3):\n",
    "    period = periods[i]\n",
    "    print(period.shape)"
   ]
  },
  {
   "cell_type": "code",
   "execution_count": null,
   "metadata": {},
   "outputs": [],
   "source": [
    "period_names = ['1990-1998','1999-2007','2008-2018']\n",
    "\n",
    "for i in range(0,3):\n",
    "    print('\\n### For',period_names[i],'###\\n')\n",
    "    period = periods[i]\n",
    "    #lin_reg(period)\n",
    "    random_f(period,0)\n",
    "    #ada(period)\n",
    "    #gbr(period)\n",
    "    #xg_boost(period)\n",
    "    #neural(period)"
   ]
  },
  {
   "cell_type": "code",
   "execution_count": 377,
   "metadata": {},
   "outputs": [
    {
     "name": "stdout",
     "output_type": "stream",
     "text": [
      "Overall MAE: 15462.29840542326\n"
     ]
    }
   ],
   "source": [
    "overall_mae = (13944*230238 + 13119*309490 + 21123*189870)/(230238+309490+189870)\n",
    "print('Overall MAE:',overall_mae)"
   ]
  },
  {
   "cell_type": "markdown",
   "metadata": {},
   "source": [
    "# Conclusions, Limitations & Future Research\n",
    "<hr>\n",
    "Add here"
   ]
  },
  {
   "cell_type": "code",
   "execution_count": null,
   "metadata": {},
   "outputs": [],
   "source": []
  }
 ],
 "metadata": {
  "kernelspec": {
   "display_name": "Python 3",
   "language": "python",
   "name": "python3"
  },
  "language_info": {
   "codemirror_mode": {
    "name": "ipython",
    "version": 3
   },
   "file_extension": ".py",
   "mimetype": "text/x-python",
   "name": "python",
   "nbconvert_exporter": "python",
   "pygments_lexer": "ipython3",
<<<<<<< HEAD
   "version": "3.6.3"
=======
   "version": "3.6.4"
>>>>>>> 481ec44b258a85140a5b79c54fa0e389042c4959
  }
 },
 "nbformat": 4,
 "nbformat_minor": 2
}
